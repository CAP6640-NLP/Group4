{
 "cells": [
  {
   "cell_type": "markdown",
   "metadata": {},
   "source": [
    "### CAP 6640 \n",
    "### Project 2 - Fake News Detection\n",
    "### Mar 28, 2024\n",
    "\n",
    "### Group 4\n",
    "### Andres Graterol\n",
    "###                   UCF ID: 4031393\n",
    "### Zachary Lyons\n",
    "###                   UCF ID: 4226832\n",
    "### Christopher Hinkle\n",
    "###                   UCF ID: 4038573\n",
    "### Nicolas Leocadio\n",
    "###                   UCF ID: 3791733"
   ]
  },
  {
   "cell_type": "markdown",
   "metadata": {},
   "source": [
    "#### Imports"
   ]
  },
  {
   "cell_type": "code",
   "execution_count": null,
   "metadata": {},
   "outputs": [],
   "source": [
    "import re \n",
    "import nltk\n",
    "import gensim\n",
    "import pandas as pd\n",
    "\n",
    "from nltk.corpus import stopwords\n",
    "from nltk.stem.porter import PorterStemmer\n",
    "from nltk.stem import WordNetLemmatizer\n",
    "\n",
    "import tensorflow as tf\n",
    "# Importing Libraries w.r.t Word Embedding layer & Lstm NN\n",
    "from tensorflow.keras.layers import Embedding, Hashing\n",
    "from tensorflow.keras.preprocessing.sequence import pad_sequences\n",
    "from tensorflow.keras.models import Sequential\n",
    "\n",
    "from tensorflow.keras.preprocessing.text import one_hot\n",
    "\n",
    "from tensorflow.keras.layers import LSTM\n",
    "from tensorflow.keras.layers import Dense\n",
    "from tensorflow.keras.layers import Dropout\n",
    "\n",
    "# Download necessary resources from nltk\n",
    "try:\n",
    "    nltk.data.find('stopwords')\n",
    "except LookupError:\n",
    "    nltk.download('stopwords')\n",
    "    \n",
    "try:\n",
    "    nltk.data.find('punkt')\n",
    "except LookupError:\n",
    "    nltk.download('punkt')\n",
    "    \n",
    "try:\n",
    "    nltk.data.find('wordnet')\n",
    "except LookupError:\n",
    "    nltk.download('wordnet') "
   ]
  },
  {
   "cell_type": "markdown",
   "metadata": {},
   "source": [
    "#### Step 1 - Data Collection"
   ]
  },
  {
   "cell_type": "code",
   "execution_count": null,
   "metadata": {},
   "outputs": [],
   "source": [
    "# Read in the training dataset as a dataframe\n",
    "df = pd.read_csv('train.csv')\n",
    "\n",
    "# Drop NaN rows from the dataframe to avoid errors\n",
    "df = df.dropna(how='all', axis=0)\n",
    "\n",
    "# Merge the author and title into a single column\n",
    "df['article'] = df['author'] + ' ' + df['title']\n",
    "# print(df['article'])\n",
    "\n",
    "# print(df)"
   ]
  },
  {
   "cell_type": "markdown",
   "metadata": {},
   "source": [
    "#### Step 2 - Data Preprocessing"
   ]
  },
  {
   "cell_type": "code",
   "execution_count": null,
   "metadata": {},
   "outputs": [],
   "source": [
    "df['title'][1]"
   ]
  },
  {
   "cell_type": "code",
   "execution_count": null,
   "metadata": {},
   "outputs": [],
   "source": [
    "# NOTE: Combine title and author into a single column, diverting from tutorial\n",
    "# df = df.drop('title', axis=1)\n",
    "# df = df.drop('author', axis=1)\n",
    "df.head()"
   ]
  },
  {
   "cell_type": "code",
   "execution_count": null,
   "metadata": {},
   "outputs": [],
   "source": [
    "# Split data in into data (X) and labels (Y)\n",
    "\n",
    "# Seclude the labels\n",
    "# 1 - unreliable\n",
    "# 0 - reliable\n",
    "labels = df['label']\n",
    "#print(labels)\n",
    "\n",
    "# Get the data excluding the labels\n",
    "data = df.drop('label', axis=1)\n",
    "# print(data)"
   ]
  },
  {
   "cell_type": "code",
   "execution_count": null,
   "metadata": {},
   "outputs": [],
   "source": [
    "# TODO: This only lemmatises the article feature, not the text found in the article - figure out if we have to do this\n",
    "\n",
    "# Init lemmatizer \n",
    "lemmatizer = WordNetLemmatizer()\n",
    "\n",
    "cleaned_corpus = []\n",
    "\n",
    "\n",
    "if os.path.isfile('cleaned_corpus.txt'):\n",
    "    with open('cleaned_corpus.txt', 'r') as f:\n",
    "        cleaned_corpus = [line.rstrip() for line in f]\n",
    "else:\n",
    "    with open('cleaned_corpus.txt', 'w') as f:\n",
    "        # For each article (author + title) in the dataframe, clean the text\n",
    "        for i in range(len(df)):\n",
    "            # Remove any non-alphanumeric characters\n",
    "            cleaned_article = re.sub('[^a-zA-Z0-9]', ' ', str(df['article'][i]))\n",
    "            # Lowercase the text\n",
    "            cleaned_article = cleaned_article.lower()\n",
    "            # Split the text into individual words\n",
    "            cleaned_article = cleaned_article.split()\n",
    "            # Lemmatize the words and remove any stopwords\n",
    "            cleaned_article = [lemmatizer.lemmatize(word) for word in cleaned_article if not word in set(stopwords.words('english'))]\n",
    "            # Join the words back together\n",
    "            cleaned_article = ' '.join(cleaned_article)\n",
    "            cleaned_corpus.append(cleaned_article)"
   ]
  },
  {
   "cell_type": "code",
   "execution_count": null,
   "metadata": {},
   "outputs": [],
   "source": [
    "# Drop any lables associated with empty articles\n",
    "labels = df[list(map(lambda x: len(x) > 0, cleaned_corpus))]\n",
    "labels = labels['label']"
   ]
  },
  {
   "cell_type": "code",
   "execution_count": null,
   "metadata": {},
   "outputs": [],
   "source": [
    "# Remove these empty articles from the corpus \n",
    "cleaned_corpus = [i for i in cleaned_corpus if i]\n",
    "len(cleaned_corpus)"
   ]
  },
  {
   "cell_type": "markdown",
   "metadata": {},
   "source": [
    "#### Step 3 - Feature Engineering"
   ]
  },
  {
   "cell_type": "code",
   "execution_count": null,
   "metadata": {},
   "outputs": [],
   "source": [
    "# Size of the vocabulary - one hot encoding will assign the words with a number in range of 0 to vocab_size\n",
    "vocab_size = 5000\n",
    "\n",
    "# One hot encoding the cleaned corpus\n",
    "onehot_repr=[one_hot(words, vocab_size) for words in cleaned_corpus]\n",
    "\n",
    "# Finding the Max_len & Min_len of the sentences in the cleaned corpus\n",
    "def get_min_max_lengths(cleaned_corpus):\n",
    "    # Arbitrary values to compare against\n",
    "    min_len = float('inf')\n",
    "    max_len = float('-inf')\n",
    "\n",
    "    # Iterate through the corpus to get the max and min length sentences\n",
    "    for i in cleaned_corpus:\n",
    "        if len(i.split()) > max_len:\n",
    "            max_len = len(i.split())\n",
    "        if len(i.split()) < min_len:\n",
    "            min_len = len(i.split())\n",
    "    return min_len, max_len \n",
    "\n",
    "min_len, max_len = get_min_max_lengths(cleaned_corpus)\n",
    "print(min_len, max_len)"
   ]
  }
 ],
 "metadata": {
  "kernelspec": {
   "display_name": "Python 3",
   "language": "python",
   "name": "python3"
  },
  "language_info": {
   "codemirror_mode": {
    "name": "ipython",
    "version": 3
   },
   "file_extension": ".py",
   "mimetype": "text/x-python",
   "name": "python",
   "nbconvert_exporter": "python",
   "pygments_lexer": "ipython3",
   "version": "3.10.11"
  }
 },
 "nbformat": 4,
 "nbformat_minor": 2
}
