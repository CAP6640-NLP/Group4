{
 "cells": [
  {
   "cell_type": "markdown",
   "metadata": {},
   "source": [
    "### CAP 6640 \n",
    "### Project 2 - Fake News Detection\n",
    "### Mar 28, 2024\n",
    "\n",
    "### Group 4\n",
    "### Andres Graterol\n",
    "###                   UCF ID: 4031393\n",
    "### Zachary Lyons\n",
    "###                   UCF ID: 4226832\n",
    "### Christopher Hinkle\n",
    "###                   UCF ID: 4038573\n",
    "### Nicolas Leocadio\n",
    "###                   UCF ID: 3791733"
   ]
  },
  {
   "cell_type": "markdown",
   "metadata": {},
   "source": [
    "#### Imports"
   ]
  },
  {
   "cell_type": "code",
   "execution_count": 17,
   "metadata": {},
   "outputs": [
    {
     "name": "stderr",
     "output_type": "stream",
     "text": [
      "[nltk_data] Downloading package stopwords to /home/nick_/nltk_data...\n",
      "[nltk_data]   Package stopwords is already up-to-date!\n",
      "[nltk_data] Downloading package punkt to /home/nick_/nltk_data...\n",
      "[nltk_data]   Package punkt is already up-to-date!\n",
      "[nltk_data] Downloading package wordnet to /home/nick_/nltk_data...\n",
      "[nltk_data]   Package wordnet is already up-to-date!\n"
     ]
    }
   ],
   "source": [
    "import re \n",
    "import nltk\n",
    "import gensim\n",
    "import pandas as pd \n",
    "import os\n",
    "import numpy as np\n",
    "import matplotlib.pyplot as plt\n",
    "import seaborn as sns\n",
    "import itertools\n",
    "\n",
    "from nltk.corpus import stopwords\n",
    "from nltk.stem.porter import PorterStemmer\n",
    "from nltk.stem import WordNetLemmatizer\n",
    "\n",
    "import tensorflow as tf\n",
    "from tensorflow.keras.layers import Embedding\n",
    "from tensorflow.keras.preprocessing.sequence import pad_sequences\n",
    "from tensorflow.keras.models import Sequential\n",
    "from tensorflow.keras.preprocessing.text import one_hot\n",
    "\n",
    "from tensorflow.keras.layers import LSTM\n",
    "from tensorflow.keras.layers import Dense\n",
    "from tensorflow.keras.layers import Dropout\n",
    "\n",
    "from sklearn.model_selection import train_test_split\n",
    "from sklearn.metrics import confusion_matrix\n",
    "from sklearn.metrics import accuracy_score\n",
    "from sklearn.metrics import classification_report\n",
    "\n",
    "from multiprocessing import Pool\n",
    "\n",
    "# Download necessary resources from nltk\n",
    "try:\n",
    "    nltk.data.find('stopwords')\n",
    "except LookupError:\n",
    "    nltk.download('stopwords')\n",
    "    \n",
    "try:\n",
    "    nltk.data.find('punkt')\n",
    "except LookupError:\n",
    "    nltk.download('punkt')\n",
    "    \n",
    "try:\n",
    "    nltk.data.find('wordnet')\n",
    "except LookupError:\n",
    "    nltk.download('wordnet') "
   ]
  },
  {
   "cell_type": "markdown",
   "metadata": {},
   "source": [
    "#### Step 1 - Data Collection"
   ]
  },
  {
   "cell_type": "code",
   "execution_count": 18,
   "metadata": {},
   "outputs": [],
   "source": [
    "# Read in the training dataset as a dataframe\n",
    "df = pd.read_csv('train.csv')\n",
    "df_test = pd.read_csv('test.csv')\n",
    "test_labels = pd.read_csv('submit.csv')\n",
    "df_test['label'] = test_labels['label']"
   ]
  },
  {
   "cell_type": "markdown",
   "metadata": {},
   "source": [
    "#### Step 2 - Data Preprocessing"
   ]
  },
  {
   "cell_type": "code",
   "execution_count": 19,
   "metadata": {},
   "outputs": [],
   "source": [
    "# Drop NaN rows from the dataframe to avoid errors\n",
    "df = df.dropna(how='all', axis=0)\n",
    "df_test = df_test.dropna(how='all', axis=0)\n",
    "\n",
    "# Merge the author, title, and text into a single column\n",
    "df['article'] = df['author'] + ' ' + df['title'] + ' ' + df['text']\n",
    "df_test['article'] = df_test['author'] + ' ' + df_test['title'] + ' ' + df_test['text']\n",
    "\n",
    "# Seclude the labels\n",
    "# 1 - unreliable\n",
    "# 0 - reliable\n",
    "labels = df['label']\n",
    "test_labels = df_test['label']"
   ]
  },
  {
   "cell_type": "code",
   "execution_count": 20,
   "metadata": {},
   "outputs": [],
   "source": [
    "# This is down to ~5s on my PC - Nick\n",
    "\n",
    "# Init lemmatizer \n",
    "lemmatizer = WordNetLemmatizer()\n",
    "\n",
    "cleaned_corpus = []\n",
    "stopword_set = set(stopwords.words('english'))\n",
    "\n",
    "def clean_article(article: list) -> list:\n",
    "    # Remove any non-alphanumeric characters\n",
    "    cleaned_article = re.sub('[^a-zA-Z0-9 ]', '', str(article))\n",
    "    # Lowercase the text & split into individual words\n",
    "    cleaned_article = cleaned_article.lower().split()\n",
    "    # Lemmatize the words and remove any stopwords\n",
    "    cleaned_article = [lemmatizer.lemmatize(word) for word in cleaned_article if not word in stopword_set]\n",
    "    # Join the words back together\n",
    "    return ' '.join(cleaned_article)\n",
    "\n",
    "# For each article (author + title) in the dataframe, clean the text\n",
    "# Pandas has a df.apply() function that is being exploited here, which applies the \n",
    "# clean_article function to each row of the dataframe\n",
    "#\n",
    "# Then Pool().map() just multithreads the process\n",
    "with Pool() as p:\n",
    "    cleaned_corpus = p.map(clean_article, df['article'])\n",
    "    \n",
    "with Pool() as p:\n",
    "    cleaned_corpus_test = p.map(clean_article, df_test['article'])\n",
    "    "
   ]
  },
  {
   "cell_type": "code",
   "execution_count": 21,
   "metadata": {},
   "outputs": [],
   "source": [
    "# Drop any lables associated with empty articles\n",
    "labels = df[list(map(lambda x: len(x) > 0, cleaned_corpus))]\n",
    "labels = labels['label']\n",
    "\n",
    "labels_test = df_test[list(map(lambda x: len(x) > 0, cleaned_corpus_test))]\n",
    "labels_test = labels_test['label']"
   ]
  },
  {
   "cell_type": "code",
   "execution_count": 22,
   "metadata": {},
   "outputs": [
    {
     "data": {
      "text/plain": [
       "5199"
      ]
     },
     "execution_count": 22,
     "metadata": {},
     "output_type": "execute_result"
    }
   ],
   "source": [
    "# Remove these empty articles from the corpus \n",
    "cleaned_corpus = [i for i in cleaned_corpus if i]\n",
    "len(cleaned_corpus)\n",
    "\n",
    "cleaned_corpus_test = [i for i in cleaned_corpus_test if i]\n",
    "len(cleaned_corpus_test)"
   ]
  },
  {
   "cell_type": "markdown",
   "metadata": {},
   "source": [
    "#### Step 3 - Feature Engineering"
   ]
  },
  {
   "cell_type": "code",
   "execution_count": 23,
   "metadata": {},
   "outputs": [
    {
     "name": "stdout",
     "output_type": "stream",
     "text": [
      "1 12454\n"
     ]
    }
   ],
   "source": [
    "# Size of the vocabulary - one hot encoding will assign the words with a number in range of 0 to vocab_size\n",
    "vocab_size = 10000\n",
    "\n",
    "# One hot encoding the cleaned corpus\n",
    "onehot_repr=[one_hot(words, vocab_size) for words in cleaned_corpus]\n",
    "onehot_repr_test=[one_hot(words, vocab_size) for words in cleaned_corpus_test]\n",
    "\n",
    "# Finding the Max_len & Min_len of the sentences in the cleaned corpus\n",
    "def get_min_max_lengths(cleaned_corpus):\n",
    "    # Arbitrary values to compare against\n",
    "    min_len = float('inf')\n",
    "    max_len = float('-inf')\n",
    "\n",
    "    # Iterate through the corpus to get the max and min length sentences\n",
    "    for i in cleaned_corpus:\n",
    "        if len(i.split()) > max_len:\n",
    "            max_len = len(i.split())\n",
    "        if len(i.split()) < min_len:\n",
    "            min_len = len(i.split())\n",
    "    return min_len, max_len \n",
    "\n",
    "min_len, max_len = get_min_max_lengths(cleaned_corpus)\n",
    "print(min_len, max_len)"
   ]
  },
  {
   "cell_type": "code",
   "execution_count": 24,
   "metadata": {},
   "outputs": [],
   "source": [
    "# Pad sentences with zeroes at the start to make them all the same length\n",
    "embedded_docs = pad_sequences(onehot_repr, padding='pre', maxlen=500)\n",
    "embedded_docs_test = pad_sequences(onehot_repr_test, padding='pre', maxlen=500)"
   ]
  },
  {
   "cell_type": "markdown",
   "metadata": {},
   "source": [
    "#### Step 4 - Algorithm and Results"
   ]
  },
  {
   "cell_type": "code",
   "execution_count": 25,
   "metadata": {},
   "outputs": [],
   "source": [
    "# Create the model with 50 features\n",
    "embedding_vector_features = 50 ## feature representation\n",
    "model = Sequential()\n",
    "model.add(Embedding(vocab_size, embedding_vector_features))\n",
    "model.add(Dropout(0.3))\n",
    "model.add(LSTM(100)) # 100 Neurons - Hyper-Parameter for LSTM\n",
    "model.add(Dropout(0.3))\n",
    "model.add(Dense(1, activation='sigmoid')) # Output Layer\n",
    "model.compile(loss='binary_crossentropy', optimizer='adam', metrics=['accuracy'])"
   ]
  },
  {
   "cell_type": "code",
   "execution_count": 26,
   "metadata": {},
   "outputs": [],
   "source": [
    "# Add early stopping to prevent overfitting\n",
    "callback = tf.keras.callbacks.EarlyStopping(patience=4, mode='min', restore_best_weights=True)"
   ]
  },
  {
   "cell_type": "code",
   "execution_count": 27,
   "metadata": {},
   "outputs": [],
   "source": [
    "X = np.array(embedded_docs)\n",
    "Y = np.array(labels)\n",
    "\n",
    "# Train & Test Split\n",
    "X_train, X_val, y_train, y_val = train_test_split(X, Y, test_size=0.30, random_state=0)"
   ]
  },
  {
   "cell_type": "code",
   "execution_count": 28,
   "metadata": {},
   "outputs": [
    {
     "name": "stdout",
     "output_type": "stream",
     "text": [
      "Num GPUs Available:  [PhysicalDevice(name='/physical_device:CPU:0', device_type='CPU'), PhysicalDevice(name='/physical_device:GPU:0', device_type='GPU')]\n"
     ]
    }
   ],
   "source": [
    "# List available devices for tensorflow to see if we are using GPU\n",
    "print(\"Num GPUs Available: \", tf.config.list_physical_devices())"
   ]
  },
  {
   "cell_type": "code",
   "execution_count": 29,
   "metadata": {},
   "outputs": [
    {
     "name": "stdout",
     "output_type": "stream",
     "text": [
      "Epoch 1/100\n",
      "\u001b[1m728/728\u001b[0m \u001b[32m━━━━━━━━━━━━━━━━━━━━\u001b[0m\u001b[37m\u001b[0m \u001b[1m24s\u001b[0m 30ms/step - accuracy: 0.8223 - loss: 0.3640 - val_accuracy: 0.9237 - val_loss: 0.2123\n",
      "Epoch 2/100\n",
      "\u001b[1m728/728\u001b[0m \u001b[32m━━━━━━━━━━━━━━━━━━━━\u001b[0m\u001b[37m\u001b[0m \u001b[1m21s\u001b[0m 29ms/step - accuracy: 0.9537 - loss: 0.1468 - val_accuracy: 0.9311 - val_loss: 0.2196\n",
      "Epoch 3/100\n",
      "\u001b[1m728/728\u001b[0m \u001b[32m━━━━━━━━━━━━━━━━━━━━\u001b[0m\u001b[37m\u001b[0m \u001b[1m21s\u001b[0m 28ms/step - accuracy: 0.9495 - loss: 0.1553 - val_accuracy: 0.8787 - val_loss: 0.3237\n",
      "Epoch 4/100\n",
      "\u001b[1m728/728\u001b[0m \u001b[32m━━━━━━━━━━━━━━━━━━━━\u001b[0m\u001b[37m\u001b[0m \u001b[1m20s\u001b[0m 28ms/step - accuracy: 0.9250 - loss: 0.2084 - val_accuracy: 0.9173 - val_loss: 0.2222\n",
      "Epoch 5/100\n",
      "\u001b[1m728/728\u001b[0m \u001b[32m━━━━━━━━━━━━━━━━━━━━\u001b[0m\u001b[37m\u001b[0m \u001b[1m20s\u001b[0m 28ms/step - accuracy: 0.9701 - loss: 0.0980 - val_accuracy: 0.9258 - val_loss: 0.2177\n"
     ]
    },
    {
     "data": {
      "text/plain": [
       "<keras.src.callbacks.history.History at 0x7f3fdd9d2990>"
      ]
     },
     "execution_count": 29,
     "metadata": {},
     "output_type": "execute_result"
    }
   ],
   "source": [
    "# Train da model\n",
    "\n",
    "# if os.path.isfile('model_combined_author_title_gpu.keras'):\n",
    "#     model = tf.keras.models.load_model('model_combined_author_title_gpu.keras')\n",
    "# else:\n",
    "#     model.fit(X_train,y_train, validation_data=(X_test,y_test), epochs=100, batch_size=20, callbacks=[callback])\n",
    "\n",
    "model.fit(X_train,y_train, validation_data=(X_val, y_val), epochs=100, batch_size=20, callbacks=[callback])\n",
    "# Training on CPU took 11m 37.4s - Nick\n",
    "# Training on GPU on WSL2 took 11m 34.3s - Nick"
   ]
  },
  {
   "cell_type": "code",
   "execution_count": 30,
   "metadata": {},
   "outputs": [],
   "source": [
    "# Save da model\n",
    "\n",
    "# if os.path.isfile('model_combined_author_title_gpu.keras'):\n",
    "#     pass\n",
    "# else:\n",
    "model.save('model_combined_author_title_gpu.keras')"
   ]
  },
  {
   "cell_type": "markdown",
   "metadata": {},
   "source": [
    "#### Step 5 - Evaluation "
   ]
  },
  {
   "cell_type": "code",
   "execution_count": 31,
   "metadata": {},
   "outputs": [
    {
     "name": "stdout",
     "output_type": "stream",
     "text": [
      "\u001b[1m163/163\u001b[0m \u001b[32m━━━━━━━━━━━━━━━━━━━━\u001b[0m\u001b[37m\u001b[0m \u001b[1m2s\u001b[0m 10ms/step\n",
      "[0 1 0 ... 0 1 0]\n",
      "[[0.03615065]\n",
      " [0.9926098 ]\n",
      " [0.96052194]\n",
      " ...\n",
      " [0.00746034]\n",
      " [0.9926098 ]\n",
      " [0.00503146]]\n"
     ]
    },
    {
     "data": {
      "image/png": "[encoded data removed]",
      "text/plain": [
       "<Figure size 800x800 with 2 Axes>"
      ]
     },
     "metadata": {},
     "output_type": "display_data"
    }
   ],
   "source": [
    "# TODO: THIS y_pred needs to come from the actual testing set (test.csv), NOT the train.csv\n",
    "X_test = np.array(embedded_docs_test)\n",
    "Y_test = np.array(labels_test)\n",
    "y_pred = model.predict(X_test)\n",
    "\n",
    "print(Y_test)\n",
    "print(y_pred)\n",
    "\n",
    "cm = confusion_matrix(Y_test, y_pred.round())\n",
    "\n",
    "def plot_confusion_matrix(cm, classes):\n",
    "    plt.figure(figsize=(8, 8))\n",
    "\n",
    "    plt.imshow(cm, interpolation='nearest', cmap=plt.cm.Blues)\n",
    "    plt.title('Confusion matrix')\n",
    "    plt.colorbar()\n",
    "    tick_marks = np.arange(len(classes))\n",
    "    plt.xticks(tick_marks, classes, rotation=45)\n",
    "    plt.yticks(tick_marks, classes)\n",
    "\n",
    "    threshold = cm.max() / 2\n",
    "    for i, j in itertools.product(range(cm.shape[0]), range(cm.shape[1])):\n",
    "        plt.text(j, i, format(cm[i, j], 'd'), horizontalalignment='center', color='white' if cm[i, j] > threshold else 'black')\n",
    "\n",
    "    plt.tight_layout()\n",
    "    plt.ylabel('True label')\n",
    "    plt.xlabel('Predicted label')\n",
    "\n",
    "plot_confusion_matrix(cm, ['reliable', 'unreliable'])\n"
   ]
  },
  {
   "cell_type": "code",
   "execution_count": 32,
   "metadata": {},
   "outputs": [
    {
     "name": "stdout",
     "output_type": "stream",
     "text": [
      "0.6147336026158877\n",
      "              precision    recall  f1-score   support\n",
      "\n",
      "           0       0.56      0.66      0.61      2339\n",
      "           1       0.67      0.58      0.62      2860\n",
      "\n",
      "    accuracy                           0.61      5199\n",
      "   macro avg       0.62      0.62      0.61      5199\n",
      "weighted avg       0.62      0.61      0.62      5199\n",
      "\n"
     ]
    }
   ],
   "source": [
    "# Accuracy\n",
    "# NOTE: This accuracy is garbage. Training is overfitting in a huge way plus we are not using the proper test set\n",
    "accuracy = accuracy_score(Y_test, y_pred.round())\n",
    "print(accuracy)\n",
    "\n",
    "# Classification Report\n",
    "classification_report = classification_report(Y_test, y_pred.round())\n",
    "print(classification_report)"
   ]
  }
 ],
 "metadata": {
  "kernelspec": {
   "display_name": "Python 3",
   "language": "python",
   "name": "python3"
  },
  "language_info": {
   "codemirror_mode": {
    "name": "ipython",
    "version": 3
   },
   "file_extension": ".py",
   "mimetype": "text/x-python",
   "name": "python",
   "nbconvert_exporter": "python",
   "pygments_lexer": "ipython3",
   "version": "3.12.1"
  }
 },
 "nbformat": 4,
 "nbformat_minor": 2
}
