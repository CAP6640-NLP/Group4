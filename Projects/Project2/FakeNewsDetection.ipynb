{
 "cells": [
  {
   "cell_type": "markdown",
   "metadata": {},
   "source": [
    "### CAP 6640 \n",
    "### Project 2 - Fake News Detection\n",
    "### Mar 28, 2024\n",
    "\n",
    "### Group 4\n",
    "### Andres Graterol\n",
    "###                   UCF ID: 4031393\n",
    "### Zachary Lyons\n",
    "###                   UCF ID: 4226832\n",
    "### Christopher Hinkle\n",
    "###                   UCF ID: 4038573\n",
    "### Nicolas Leocadio\n",
    "###                   UCF ID: 3791733"
   ]
  },
  {
   "cell_type": "markdown",
   "metadata": {},
   "source": [
    "#### Imports"
   ]
  },
  {
   "cell_type": "code",
   "execution_count": 18,
   "metadata": {},
   "outputs": [
    {
     "name": "stderr",
     "output_type": "stream",
     "text": [
      "[nltk_data] Downloading package stopwords to /home/nick_/nltk_data...\n",
      "[nltk_data]   Package stopwords is already up-to-date!\n",
      "[nltk_data] Downloading package punkt to /home/nick_/nltk_data...\n",
      "[nltk_data]   Package punkt is already up-to-date!\n",
      "[nltk_data] Downloading package wordnet to /home/nick_/nltk_data...\n",
      "[nltk_data]   Package wordnet is already up-to-date!\n"
     ]
    }
   ],
   "source": [
    "import re \n",
    "import nltk\n",
    "import gensim\n",
    "import pandas as pd \n",
    "import os\n",
    "import numpy as np\n",
    "import matplotlib.pyplot as plt\n",
    "import seaborn as sns\n",
    "import itertools\n",
    "\n",
    "from nltk.corpus import stopwords\n",
    "from nltk.stem.porter import PorterStemmer\n",
    "from nltk.stem import WordNetLemmatizer\n",
    "\n",
    "import tensorflow as tf\n",
    "from tensorflow.keras.layers import Embedding\n",
    "from tensorflow.keras.preprocessing.sequence import pad_sequences\n",
    "from tensorflow.keras.models import Sequential\n",
    "from tensorflow.keras.preprocessing.text import one_hot\n",
    "\n",
    "from tensorflow.keras.layers import LSTM\n",
    "from tensorflow.keras.layers import Dense\n",
    "from tensorflow.keras.layers import Dropout\n",
    "\n",
    "from sklearn.model_selection import train_test_split\n",
    "from sklearn.metrics import confusion_matrix\n",
    "from sklearn.metrics import accuracy_score\n",
    "from sklearn.metrics import classification_report\n",
    "\n",
    "# Download necessary resources from nltk\n",
    "try:\n",
    "    nltk.data.find('stopwords')\n",
    "except LookupError:\n",
    "    nltk.download('stopwords')\n",
    "    \n",
    "try:\n",
    "    nltk.data.find('punkt')\n",
    "except LookupError:\n",
    "    nltk.download('punkt')\n",
    "    \n",
    "try:\n",
    "    nltk.data.find('wordnet')\n",
    "except LookupError:\n",
    "    nltk.download('wordnet') "
   ]
  },
  {
   "cell_type": "markdown",
   "metadata": {},
   "source": [
    "#### Step 1 - Data Collection"
   ]
  },
  {
   "cell_type": "code",
   "execution_count": 19,
   "metadata": {},
   "outputs": [],
   "source": [
    "# Read in the training dataset as a dataframe\n",
    "df = pd.read_csv('train.csv')\n",
    "\n",
    "# Drop NaN rows from the dataframe to avoid errors\n",
    "df = df.dropna(how='all', axis=0)\n",
    "\n",
    "# Merge the author and title into a single column\n",
    "df['article'] = df['author'] + ' ' + df['title']\n",
    "# print(df['article'])\n",
    "\n",
    "# print(df)"
   ]
  },
  {
   "cell_type": "markdown",
   "metadata": {},
   "source": [
    "#### Step 2 - Data Preprocessing"
   ]
  },
  {
   "cell_type": "code",
   "execution_count": 20,
   "metadata": {},
   "outputs": [
    {
     "data": {
      "text/plain": [
       "'FLYNN: Hillary Clinton, Big Woman on Campus - Breitbart'"
      ]
     },
     "execution_count": 20,
     "metadata": {},
     "output_type": "execute_result"
    }
   ],
   "source": [
    "df['title'][1]"
   ]
  },
  {
   "cell_type": "code",
   "execution_count": 21,
   "metadata": {},
   "outputs": [
    {
     "data": {
      "text/html": [
       "<div>\n",
       "<style scoped>\n",
       "    .dataframe tbody tr th:only-of-type {\n",
       "        vertical-align: middle;\n",
       "    }\n",
       "\n",
       "    .dataframe tbody tr th {\n",
       "        vertical-align: top;\n",
       "    }\n",
       "\n",
       "    .dataframe thead th {\n",
       "        text-align: right;\n",
       "    }\n",
       "</style>\n",
       "<table border=\"1\" class=\"dataframe\">\n",
       "  <thead>\n",
       "    <tr style=\"text-align: right;\">\n",
       "      <th></th>\n",
       "      <th>id</th>\n",
       "      <th>title</th>\n",
       "      <th>author</th>\n",
       "      <th>text</th>\n",
       "      <th>label</th>\n",
       "      <th>article</th>\n",
       "    </tr>\n",
       "  </thead>\n",
       "  <tbody>\n",
       "    <tr>\n",
       "      <th>0</th>\n",
       "      <td>0</td>\n",
       "      <td>House Dem Aide: We Didn’t Even See Comey’s Let...</td>\n",
       "      <td>Darrell Lucus</td>\n",
       "      <td>House Dem Aide: We Didn’t Even See Comey’s Let...</td>\n",
       "      <td>1</td>\n",
       "      <td>Darrell Lucus House Dem Aide: We Didn’t Even S...</td>\n",
       "    </tr>\n",
       "    <tr>\n",
       "      <th>1</th>\n",
       "      <td>1</td>\n",
       "      <td>FLYNN: Hillary Clinton, Big Woman on Campus - ...</td>\n",
       "      <td>Daniel J. Flynn</td>\n",
       "      <td>Ever get the feeling your life circles the rou...</td>\n",
       "      <td>0</td>\n",
       "      <td>Daniel J. Flynn FLYNN: Hillary Clinton, Big Wo...</td>\n",
       "    </tr>\n",
       "    <tr>\n",
       "      <th>2</th>\n",
       "      <td>2</td>\n",
       "      <td>Why the Truth Might Get You Fired</td>\n",
       "      <td>Consortiumnews.com</td>\n",
       "      <td>Why the Truth Might Get You Fired October 29, ...</td>\n",
       "      <td>1</td>\n",
       "      <td>Consortiumnews.com Why the Truth Might Get You...</td>\n",
       "    </tr>\n",
       "    <tr>\n",
       "      <th>3</th>\n",
       "      <td>3</td>\n",
       "      <td>15 Civilians Killed In Single US Airstrike Hav...</td>\n",
       "      <td>Jessica Purkiss</td>\n",
       "      <td>Videos 15 Civilians Killed In Single US Airstr...</td>\n",
       "      <td>1</td>\n",
       "      <td>Jessica Purkiss 15 Civilians Killed In Single ...</td>\n",
       "    </tr>\n",
       "    <tr>\n",
       "      <th>4</th>\n",
       "      <td>4</td>\n",
       "      <td>Iranian woman jailed for fictional unpublished...</td>\n",
       "      <td>Howard Portnoy</td>\n",
       "      <td>Print \\nAn Iranian woman has been sentenced to...</td>\n",
       "      <td>1</td>\n",
       "      <td>Howard Portnoy Iranian woman jailed for fictio...</td>\n",
       "    </tr>\n",
       "  </tbody>\n",
       "</table>\n",
       "</div>"
      ],
      "text/plain": [
       "   id                                              title              author  \\\n",
       "0   0  House Dem Aide: We Didn’t Even See Comey’s Let...       Darrell Lucus   \n",
       "1   1  FLYNN: Hillary Clinton, Big Woman on Campus - ...     Daniel J. Flynn   \n",
       "2   2                  Why the Truth Might Get You Fired  Consortiumnews.com   \n",
       "3   3  15 Civilians Killed In Single US Airstrike Hav...     Jessica Purkiss   \n",
       "4   4  Iranian woman jailed for fictional unpublished...      Howard Portnoy   \n",
       "\n",
       "                                                text  label  \\\n",
       "0  House Dem Aide: We Didn’t Even See Comey’s Let...      1   \n",
       "1  Ever get the feeling your life circles the rou...      0   \n",
       "2  Why the Truth Might Get You Fired October 29, ...      1   \n",
       "3  Videos 15 Civilians Killed In Single US Airstr...      1   \n",
       "4  Print \\nAn Iranian woman has been sentenced to...      1   \n",
       "\n",
       "                                             article  \n",
       "0  Darrell Lucus House Dem Aide: We Didn’t Even S...  \n",
       "1  Daniel J. Flynn FLYNN: Hillary Clinton, Big Wo...  \n",
       "2  Consortiumnews.com Why the Truth Might Get You...  \n",
       "3  Jessica Purkiss 15 Civilians Killed In Single ...  \n",
       "4  Howard Portnoy Iranian woman jailed for fictio...  "
      ]
     },
     "execution_count": 21,
     "metadata": {},
     "output_type": "execute_result"
    }
   ],
   "source": [
    "# NOTE: Combine title and author into a single column, diverting from tutorial\n",
    "# df = df.drop('title', axis=1)\n",
    "# df = df.drop('author', axis=1)\n",
    "df.head()"
   ]
  },
  {
   "cell_type": "code",
   "execution_count": 22,
   "metadata": {},
   "outputs": [],
   "source": [
    "# Split data in into data (X) and labels (Y)\n",
    "\n",
    "# Seclude the labels\n",
    "# 1 - unreliable\n",
    "# 0 - reliable\n",
    "labels = df['label']\n",
    "#print(labels)\n",
    "\n",
    "# Get the data excluding the labels\n",
    "data = df.drop('label', axis=1)\n",
    "# print(data)"
   ]
  },
  {
   "cell_type": "code",
   "execution_count": 23,
   "metadata": {},
   "outputs": [],
   "source": [
    "# TODO: This only lemmatises the article feature, not the text found in the article - figure out if we have to do this\n",
    "\n",
    "# Init lemmatizer \n",
    "lemmatizer = WordNetLemmatizer()\n",
    "\n",
    "cleaned_corpus = []\n",
    "\n",
    "\n",
    "if os.path.isfile('cleaned_corpus.txt'):\n",
    "    with open('cleaned_corpus.txt', 'r') as f:\n",
    "        cleaned_corpus = [line.rstrip() for line in f]\n",
    "else:\n",
    "    with open('cleaned_corpus.txt', 'w') as f:\n",
    "        # For each article (author + title) in the dataframe, clean the text\n",
    "        for i in range(len(df)):\n",
    "            # Remove any non-alphanumeric characters\n",
    "            cleaned_article = re.sub('[^a-zA-Z0-9]', ' ', str(df['article'][i]))\n",
    "            # Lowercase the text\n",
    "            cleaned_article = cleaned_article.lower()\n",
    "            # Split the text into individual words\n",
    "            cleaned_article = cleaned_article.split()\n",
    "            # Lemmatize the words and remove any stopwords\n",
    "            cleaned_article = [lemmatizer.lemmatize(word) for word in cleaned_article if not word in set(stopwords.words('english'))]\n",
    "            # Join the words back together\n",
    "            cleaned_article = ' '.join(cleaned_article)\n",
    "            cleaned_corpus.append(cleaned_article)\n",
    "            f.write(\"%s\\n\" % cleaned_article)"
   ]
  },
  {
   "cell_type": "code",
   "execution_count": 24,
   "metadata": {},
   "outputs": [],
   "source": [
    "# Drop any lables associated with empty articles\n",
    "labels = df[list(map(lambda x: len(x) > 0, cleaned_corpus))]\n",
    "labels = labels['label']"
   ]
  },
  {
   "cell_type": "code",
   "execution_count": 25,
   "metadata": {},
   "outputs": [
    {
     "data": {
      "text/plain": [
       "20771"
      ]
     },
     "execution_count": 25,
     "metadata": {},
     "output_type": "execute_result"
    }
   ],
   "source": [
    "# Remove these empty articles from the corpus \n",
    "cleaned_corpus = [i for i in cleaned_corpus if i]\n",
    "len(cleaned_corpus)"
   ]
  },
  {
   "cell_type": "markdown",
   "metadata": {},
   "source": [
    "#### Step 3 - Feature Engineering"
   ]
  },
  {
   "cell_type": "code",
   "execution_count": 26,
   "metadata": {},
   "outputs": [
    {
     "name": "stdout",
     "output_type": "stream",
     "text": [
      "1 51\n"
     ]
    }
   ],
   "source": [
    "# Size of the vocabulary - one hot encoding will assign the words with a number in range of 0 to vocab_size\n",
    "vocab_size = 5000\n",
    "\n",
    "# One hot encoding the cleaned corpus\n",
    "onehot_repr=[one_hot(words, vocab_size) for words in cleaned_corpus]\n",
    "\n",
    "# Finding the Max_len & Min_len of the sentences in the cleaned corpus\n",
    "def get_min_max_lengths(cleaned_corpus):\n",
    "    # Arbitrary values to compare against\n",
    "    min_len = float('inf')\n",
    "    max_len = float('-inf')\n",
    "\n",
    "    # Iterate through the corpus to get the max and min length sentences\n",
    "    for i in cleaned_corpus:\n",
    "        if len(i.split()) > max_len:\n",
    "            max_len = len(i.split())\n",
    "        if len(i.split()) < min_len:\n",
    "            min_len = len(i.split())\n",
    "    return min_len, max_len \n",
    "\n",
    "min_len, max_len = get_min_max_lengths(cleaned_corpus)\n",
    "print(min_len, max_len)"
   ]
  },
  {
   "cell_type": "code",
   "execution_count": 27,
   "metadata": {},
   "outputs": [],
   "source": [
    "# Pad sentences with zeroes at the start to make them all the same length\n",
    "embedded_docs = pad_sequences(onehot_repr, padding='pre', maxlen=max_len)"
   ]
  },
  {
   "cell_type": "markdown",
   "metadata": {},
   "source": [
    "#### Step 4 - Algorithm and Results"
   ]
  },
  {
   "cell_type": "code",
   "execution_count": 28,
   "metadata": {},
   "outputs": [],
   "source": [
    "# Create the model with 50 features\n",
    "embedding_vector_features = 50 ## feature representation\n",
    "model = Sequential()\n",
    "model.add(Embedding(vocab_size, embedding_vector_features))\n",
    "model.add(LSTM(100)) # 100 Neurons - Hyper-Parameter for LSTM\n",
    "model.add(Dense(1, activation='sigmoid')) # Output Layer\n",
    "model.compile(loss='binary_crossentropy', optimizer='adam', metrics=['accuracy'])"
   ]
  },
  {
   "cell_type": "code",
   "execution_count": 29,
   "metadata": {},
   "outputs": [],
   "source": [
    "X = np.array(embedded_docs)\n",
    "Y = np.array(labels)\n",
    "\n",
    "# Train & Test Split\n",
    "X_train, X_test, y_train, y_test = train_test_split(X, Y, test_size=0.30, random_state=0)"
   ]
  },
  {
   "cell_type": "code",
   "execution_count": null,
   "metadata": {},
   "outputs": [],
   "source": [
    "# List available devices for tensorflow to see if we are using GPU\n",
    "print(\"Num GPUs Available: \", tf.config.list_physical_devices())"
   ]
  },
  {
   "cell_type": "code",
   "execution_count": 30,
   "metadata": {},
   "outputs": [
    {
     "name": "stdout",
     "output_type": "stream",
     "text": [
      "Epoch 1/100\n",
      "\u001b[1m727/727\u001b[0m \u001b[32m━━━━━━━━━━━━━━━━━━━━\u001b[0m\u001b[37m\u001b[0m \u001b[1m8s\u001b[0m 10ms/step - accuracy: 0.8797 - loss: 0.2541 - val_accuracy: 0.9867 - val_loss: 0.0486\n",
      "Epoch 2/100\n",
      "\u001b[1m727/727\u001b[0m \u001b[32m━━━━━━━━━━━━━━━━━━━━\u001b[0m\u001b[37m\u001b[0m \u001b[1m7s\u001b[0m 9ms/step - accuracy: 0.9951 - loss: 0.0200 - val_accuracy: 0.9886 - val_loss: 0.0391\n",
      "Epoch 3/100\n",
      "\u001b[1m727/727\u001b[0m \u001b[32m━━━━━━━━━━━━━━━━━━━━\u001b[0m\u001b[37m\u001b[0m \u001b[1m7s\u001b[0m 9ms/step - accuracy: 0.9975 - loss: 0.0134 - val_accuracy: 0.9828 - val_loss: 0.0531\n",
      "Epoch 4/100\n",
      "\u001b[1m727/727\u001b[0m \u001b[32m━━━━━━━━━━━━━━━━━━━━\u001b[0m\u001b[37m\u001b[0m \u001b[1m7s\u001b[0m 9ms/step - accuracy: 0.9983 - loss: 0.0088 - val_accuracy: 0.9881 - val_loss: 0.0483\n",
      "Epoch 5/100\n",
      "\u001b[1m727/727\u001b[0m \u001b[32m━━━━━━━━━━━━━━━━━━━━\u001b[0m\u001b[37m\u001b[0m \u001b[1m7s\u001b[0m 9ms/step - accuracy: 0.9985 - loss: 0.0083 - val_accuracy: 0.9852 - val_loss: 0.0555\n",
      "Epoch 6/100\n",
      "\u001b[1m727/727\u001b[0m \u001b[32m━━━━━━━━━━━━━━━━━━━━\u001b[0m\u001b[37m\u001b[0m \u001b[1m7s\u001b[0m 9ms/step - accuracy: 0.9985 - loss: 0.0087 - val_accuracy: 0.9868 - val_loss: 0.0582\n",
      "Epoch 7/100\n",
      "\u001b[1m727/727\u001b[0m \u001b[32m━━━━━━━━━━━━━━━━━━━━\u001b[0m\u001b[37m\u001b[0m \u001b[1m6s\u001b[0m 9ms/step - accuracy: 0.9989 - loss: 0.0072 - val_accuracy: 0.9862 - val_loss: 0.0567\n",
      "Epoch 8/100\n",
      "\u001b[1m727/727\u001b[0m \u001b[32m━━━━━━━━━━━━━━━━━━━━\u001b[0m\u001b[37m\u001b[0m \u001b[1m7s\u001b[0m 9ms/step - accuracy: 0.9989 - loss: 0.0075 - val_accuracy: 0.9872 - val_loss: 0.0612\n",
      "Epoch 9/100\n",
      "\u001b[1m727/727\u001b[0m \u001b[32m━━━━━━━━━━━━━━━━━━━━\u001b[0m\u001b[37m\u001b[0m \u001b[1m7s\u001b[0m 9ms/step - accuracy: 0.9990 - loss: 0.0065 - val_accuracy: 0.9897 - val_loss: 0.0493\n",
      "Epoch 10/100\n",
      "\u001b[1m727/727\u001b[0m \u001b[32m━━━━━━━━━━━━━━━━━━━━\u001b[0m\u001b[37m\u001b[0m \u001b[1m7s\u001b[0m 9ms/step - accuracy: 0.9988 - loss: 0.0071 - val_accuracy: 0.9894 - val_loss: 0.0463\n",
      "Epoch 11/100\n",
      "\u001b[1m727/727\u001b[0m \u001b[32m━━━━━━━━━━━━━━━━━━━━\u001b[0m\u001b[37m\u001b[0m \u001b[1m7s\u001b[0m 9ms/step - accuracy: 0.9996 - loss: 0.0031 - val_accuracy: 0.9902 - val_loss: 0.0485\n",
      "Epoch 12/100\n",
      "\u001b[1m727/727\u001b[0m \u001b[32m━━━━━━━━━━━━━━━━━━━━\u001b[0m\u001b[37m\u001b[0m \u001b[1m7s\u001b[0m 9ms/step - accuracy: 0.9993 - loss: 0.0046 - val_accuracy: 0.9905 - val_loss: 0.0477\n",
      "Epoch 13/100\n",
      "\u001b[1m727/727\u001b[0m \u001b[32m━━━━━━━━━━━━━━━━━━━━\u001b[0m\u001b[37m\u001b[0m \u001b[1m7s\u001b[0m 9ms/step - accuracy: 0.9989 - loss: 0.0067 - val_accuracy: 0.9909 - val_loss: 0.0477\n",
      "Epoch 14/100\n",
      "\u001b[1m727/727\u001b[0m \u001b[32m━━━━━━━━━━━━━━━━━━━━\u001b[0m\u001b[37m\u001b[0m \u001b[1m7s\u001b[0m 9ms/step - accuracy: 0.9987 - loss: 0.0076 - val_accuracy: 0.9907 - val_loss: 0.0500\n",
      "Epoch 15/100\n",
      "\u001b[1m727/727\u001b[0m \u001b[32m━━━━━━━━━━━━━━━━━━━━\u001b[0m\u001b[37m\u001b[0m \u001b[1m7s\u001b[0m 9ms/step - accuracy: 0.9989 - loss: 0.0066 - val_accuracy: 0.9917 - val_loss: 0.0497\n",
      "Epoch 16/100\n",
      "\u001b[1m727/727\u001b[0m \u001b[32m━━━━━━━━━━━━━━━━━━━━\u001b[0m\u001b[37m\u001b[0m \u001b[1m7s\u001b[0m 9ms/step - accuracy: 0.9991 - loss: 0.0054 - val_accuracy: 0.9918 - val_loss: 0.0490\n",
      "Epoch 17/100\n",
      "\u001b[1m727/727\u001b[0m \u001b[32m━━━━━━━━━━━━━━━━━━━━\u001b[0m\u001b[37m\u001b[0m \u001b[1m7s\u001b[0m 9ms/step - accuracy: 0.9991 - loss: 0.0054 - val_accuracy: 0.9748 - val_loss: 0.0936\n",
      "Epoch 18/100\n",
      "\u001b[1m727/727\u001b[0m \u001b[32m━━━━━━━━━━━━━━━━━━━━\u001b[0m\u001b[37m\u001b[0m \u001b[1m7s\u001b[0m 10ms/step - accuracy: 0.9934 - loss: 0.0225 - val_accuracy: 0.9920 - val_loss: 0.0367\n",
      "Epoch 19/100\n",
      "\u001b[1m727/727\u001b[0m \u001b[32m━━━━━━━━━━━━━━━━━━━━\u001b[0m\u001b[37m\u001b[0m \u001b[1m7s\u001b[0m 10ms/step - accuracy: 0.9988 - loss: 0.0063 - val_accuracy: 0.9896 - val_loss: 0.0458\n",
      "Epoch 20/100\n",
      "\u001b[1m727/727\u001b[0m \u001b[32m━━━━━━━━━━━━━━━━━━━━\u001b[0m\u001b[37m\u001b[0m \u001b[1m7s\u001b[0m 9ms/step - accuracy: 0.9985 - loss: 0.0083 - val_accuracy: 0.9910 - val_loss: 0.0409\n",
      "Epoch 21/100\n",
      "\u001b[1m727/727\u001b[0m \u001b[32m━━━━━━━━━━━━━━━━━━━━\u001b[0m\u001b[37m\u001b[0m \u001b[1m7s\u001b[0m 9ms/step - accuracy: 0.9988 - loss: 0.0072 - val_accuracy: 0.9913 - val_loss: 0.0430\n",
      "Epoch 22/100\n",
      "\u001b[1m727/727\u001b[0m \u001b[32m━━━━━━━━━━━━━━━━━━━━\u001b[0m\u001b[37m\u001b[0m \u001b[1m7s\u001b[0m 10ms/step - accuracy: 0.9989 - loss: 0.0067 - val_accuracy: 0.9913 - val_loss: 0.0445\n",
      "Epoch 23/100\n",
      "\u001b[1m727/727\u001b[0m \u001b[32m━━━━━━━━━━━━━━━━━━━━\u001b[0m\u001b[37m\u001b[0m \u001b[1m7s\u001b[0m 10ms/step - accuracy: 0.9991 - loss: 0.0055 - val_accuracy: 0.9912 - val_loss: 0.0463\n",
      "Epoch 24/100\n",
      "\u001b[1m727/727\u001b[0m \u001b[32m━━━━━━━━━━━━━━━━━━━━\u001b[0m\u001b[37m\u001b[0m \u001b[1m7s\u001b[0m 9ms/step - accuracy: 0.9993 - loss: 0.0047 - val_accuracy: 0.9909 - val_loss: 0.0501\n",
      "Epoch 25/100\n",
      "\u001b[1m727/727\u001b[0m \u001b[32m━━━━━━━━━━━━━━━━━━━━\u001b[0m\u001b[37m\u001b[0m \u001b[1m7s\u001b[0m 9ms/step - accuracy: 0.9992 - loss: 0.0049 - val_accuracy: 0.9909 - val_loss: 0.0521\n",
      "Epoch 26/100\n",
      "\u001b[1m727/727\u001b[0m \u001b[32m━━━━━━━━━━━━━━━━━━━━\u001b[0m\u001b[37m\u001b[0m \u001b[1m7s\u001b[0m 10ms/step - accuracy: 0.9990 - loss: 0.0059 - val_accuracy: 0.9907 - val_loss: 0.0545\n",
      "Epoch 27/100\n",
      "\u001b[1m727/727\u001b[0m \u001b[32m━━━━━━━━━━━━━━━━━━━━\u001b[0m\u001b[37m\u001b[0m \u001b[1m7s\u001b[0m 10ms/step - accuracy: 0.9989 - loss: 0.0063 - val_accuracy: 0.9910 - val_loss: 0.0546\n",
      "Epoch 28/100\n",
      "\u001b[1m727/727\u001b[0m \u001b[32m━━━━━━━━━━━━━━━━━━━━\u001b[0m\u001b[37m\u001b[0m \u001b[1m7s\u001b[0m 10ms/step - accuracy: 0.9990 - loss: 0.0058 - val_accuracy: 0.9912 - val_loss: 0.0572\n",
      "Epoch 29/100\n",
      "\u001b[1m727/727\u001b[0m \u001b[32m━━━━━━━━━━━━━━━━━━━━\u001b[0m\u001b[37m\u001b[0m \u001b[1m7s\u001b[0m 10ms/step - accuracy: 0.9986 - loss: 0.0075 - val_accuracy: 0.9915 - val_loss: 0.0526\n",
      "Epoch 30/100\n",
      "\u001b[1m727/727\u001b[0m \u001b[32m━━━━━━━━━━━━━━━━━━━━\u001b[0m\u001b[37m\u001b[0m \u001b[1m7s\u001b[0m 10ms/step - accuracy: 0.9990 - loss: 0.0062 - val_accuracy: 0.9904 - val_loss: 0.0559\n",
      "Epoch 31/100\n",
      "\u001b[1m727/727\u001b[0m \u001b[32m━━━━━━━━━━━━━━━━━━━━\u001b[0m\u001b[37m\u001b[0m \u001b[1m8s\u001b[0m 10ms/step - accuracy: 0.9988 - loss: 0.0070 - val_accuracy: 0.9909 - val_loss: 0.0616\n",
      "Epoch 32/100\n",
      "\u001b[1m727/727\u001b[0m \u001b[32m━━━━━━━━━━━━━━━━━━━━\u001b[0m\u001b[37m\u001b[0m \u001b[1m7s\u001b[0m 9ms/step - accuracy: 0.9993 - loss: 0.0045 - val_accuracy: 0.9901 - val_loss: 0.0616\n",
      "Epoch 33/100\n",
      "\u001b[1m727/727\u001b[0m \u001b[32m━━━━━━━━━━━━━━━━━━━━\u001b[0m\u001b[37m\u001b[0m \u001b[1m7s\u001b[0m 9ms/step - accuracy: 0.9993 - loss: 0.0045 - val_accuracy: 0.9905 - val_loss: 0.0640\n",
      "Epoch 34/100\n",
      "\u001b[1m727/727\u001b[0m \u001b[32m━━━━━━━━━━━━━━━━━━━━\u001b[0m\u001b[37m\u001b[0m \u001b[1m7s\u001b[0m 9ms/step - accuracy: 0.9987 - loss: 0.0073 - val_accuracy: 0.9905 - val_loss: 0.0678\n",
      "Epoch 35/100\n",
      "\u001b[1m727/727\u001b[0m \u001b[32m━━━━━━━━━━━━━━━━━━━━\u001b[0m\u001b[37m\u001b[0m \u001b[1m7s\u001b[0m 10ms/step - accuracy: 0.9992 - loss: 0.0049 - val_accuracy: 0.9909 - val_loss: 0.0693\n",
      "Epoch 36/100\n",
      "\u001b[1m727/727\u001b[0m \u001b[32m━━━━━━━━━━━━━━━━━━━━\u001b[0m\u001b[37m\u001b[0m \u001b[1m7s\u001b[0m 9ms/step - accuracy: 0.9990 - loss: 0.0058 - val_accuracy: 0.9907 - val_loss: 0.0713\n",
      "Epoch 37/100\n",
      "\u001b[1m727/727\u001b[0m \u001b[32m━━━━━━━━━━━━━━━━━━━━\u001b[0m\u001b[37m\u001b[0m \u001b[1m7s\u001b[0m 9ms/step - accuracy: 0.9992 - loss: 0.0050 - val_accuracy: 0.9907 - val_loss: 0.0740\n",
      "Epoch 38/100\n",
      "\u001b[1m727/727\u001b[0m \u001b[32m━━━━━━━━━━━━━━━━━━━━\u001b[0m\u001b[37m\u001b[0m \u001b[1m7s\u001b[0m 9ms/step - accuracy: 0.9983 - loss: 0.0090 - val_accuracy: 0.9884 - val_loss: 0.0838\n",
      "Epoch 39/100\n",
      "\u001b[1m727/727\u001b[0m \u001b[32m━━━━━━━━━━━━━━━━━━━━\u001b[0m\u001b[37m\u001b[0m \u001b[1m7s\u001b[0m 9ms/step - accuracy: 0.9985 - loss: 0.0080 - val_accuracy: 0.9876 - val_loss: 0.0520\n",
      "Epoch 40/100\n",
      "\u001b[1m727/727\u001b[0m \u001b[32m━━━━━━━━━━━━━━━━━━━━\u001b[0m\u001b[37m\u001b[0m \u001b[1m7s\u001b[0m 9ms/step - accuracy: 0.9988 - loss: 0.0061 - val_accuracy: 0.9886 - val_loss: 0.0635\n",
      "Epoch 41/100\n",
      "\u001b[1m727/727\u001b[0m \u001b[32m━━━━━━━━━━━━━━━━━━━━\u001b[0m\u001b[37m\u001b[0m \u001b[1m7s\u001b[0m 9ms/step - accuracy: 0.9990 - loss: 0.0058 - val_accuracy: 0.9897 - val_loss: 0.0581\n",
      "Epoch 42/100\n",
      "\u001b[1m727/727\u001b[0m \u001b[32m━━━━━━━━━━━━━━━━━━━━\u001b[0m\u001b[37m\u001b[0m \u001b[1m7s\u001b[0m 9ms/step - accuracy: 0.9990 - loss: 0.0059 - val_accuracy: 0.9901 - val_loss: 0.0579\n",
      "Epoch 43/100\n",
      "\u001b[1m727/727\u001b[0m \u001b[32m━━━━━━━━━━━━━━━━━━━━\u001b[0m\u001b[37m\u001b[0m \u001b[1m7s\u001b[0m 10ms/step - accuracy: 0.9991 - loss: 0.0056 - val_accuracy: 0.9901 - val_loss: 0.0572\n",
      "Epoch 44/100\n",
      "\u001b[1m727/727\u001b[0m \u001b[32m━━━━━━━━━━━━━━━━━━━━\u001b[0m\u001b[37m\u001b[0m \u001b[1m7s\u001b[0m 10ms/step - accuracy: 0.9984 - loss: 0.0088 - val_accuracy: 0.9904 - val_loss: 0.0572\n",
      "Epoch 45/100\n",
      "\u001b[1m727/727\u001b[0m \u001b[32m━━━━━━━━━━━━━━━━━━━━\u001b[0m\u001b[37m\u001b[0m \u001b[1m7s\u001b[0m 10ms/step - accuracy: 0.9986 - loss: 0.0080 - val_accuracy: 0.9904 - val_loss: 0.0571\n",
      "Epoch 46/100\n",
      "\u001b[1m727/727\u001b[0m \u001b[32m━━━━━━━━━━━━━━━━━━━━\u001b[0m\u001b[37m\u001b[0m \u001b[1m7s\u001b[0m 9ms/step - accuracy: 0.9990 - loss: 0.0057 - val_accuracy: 0.9907 - val_loss: 0.0572\n",
      "Epoch 47/100\n",
      "\u001b[1m727/727\u001b[0m \u001b[32m━━━━━━━━━━━━━━━━━━━━\u001b[0m\u001b[37m\u001b[0m \u001b[1m7s\u001b[0m 9ms/step - accuracy: 0.9988 - loss: 0.0069 - val_accuracy: 0.9905 - val_loss: 0.0576\n",
      "Epoch 48/100\n",
      "\u001b[1m727/727\u001b[0m \u001b[32m━━━━━━━━━━━━━━━━━━━━\u001b[0m\u001b[37m\u001b[0m \u001b[1m7s\u001b[0m 10ms/step - accuracy: 0.9990 - loss: 0.0057 - val_accuracy: 0.9907 - val_loss: 0.0582\n",
      "Epoch 49/100\n",
      "\u001b[1m727/727\u001b[0m \u001b[32m━━━━━━━━━━━━━━━━━━━━\u001b[0m\u001b[37m\u001b[0m \u001b[1m7s\u001b[0m 9ms/step - accuracy: 0.9986 - loss: 0.0078 - val_accuracy: 0.9907 - val_loss: 0.0582\n",
      "Epoch 50/100\n",
      "\u001b[1m727/727\u001b[0m \u001b[32m━━━━━━━━━━━━━━━━━━━━\u001b[0m\u001b[37m\u001b[0m \u001b[1m7s\u001b[0m 9ms/step - accuracy: 0.9990 - loss: 0.0060 - val_accuracy: 0.9910 - val_loss: 0.0583\n",
      "Epoch 51/100\n",
      "\u001b[1m727/727\u001b[0m \u001b[32m━━━━━━━━━━━━━━━━━━━━\u001b[0m\u001b[37m\u001b[0m \u001b[1m7s\u001b[0m 9ms/step - accuracy: 0.9992 - loss: 0.0050 - val_accuracy: 0.9912 - val_loss: 0.0596\n",
      "Epoch 52/100\n",
      "\u001b[1m727/727\u001b[0m \u001b[32m━━━━━━━━━━━━━━━━━━━━\u001b[0m\u001b[37m\u001b[0m \u001b[1m7s\u001b[0m 10ms/step - accuracy: 0.9989 - loss: 0.0065 - val_accuracy: 0.9909 - val_loss: 0.0599\n",
      "Epoch 53/100\n",
      "\u001b[1m727/727\u001b[0m \u001b[32m━━━━━━━━━━━━━━━━━━━━\u001b[0m\u001b[37m\u001b[0m \u001b[1m7s\u001b[0m 10ms/step - accuracy: 0.9989 - loss: 0.0062 - val_accuracy: 0.9910 - val_loss: 0.0607\n",
      "Epoch 54/100\n",
      "\u001b[1m727/727\u001b[0m \u001b[32m━━━━━━━━━━━━━━━━━━━━\u001b[0m\u001b[37m\u001b[0m \u001b[1m7s\u001b[0m 10ms/step - accuracy: 0.9993 - loss: 0.0046 - val_accuracy: 0.9904 - val_loss: 0.0640\n",
      "Epoch 55/100\n",
      "\u001b[1m727/727\u001b[0m \u001b[32m━━━━━━━━━━━━━━━━━━━━\u001b[0m\u001b[37m\u001b[0m \u001b[1m7s\u001b[0m 9ms/step - accuracy: 0.9995 - loss: 0.0036 - val_accuracy: 0.9905 - val_loss: 0.0641\n",
      "Epoch 56/100\n",
      "\u001b[1m727/727\u001b[0m \u001b[32m━━━━━━━━━━━━━━━━━━━━\u001b[0m\u001b[37m\u001b[0m \u001b[1m7s\u001b[0m 9ms/step - accuracy: 0.9992 - loss: 0.0051 - val_accuracy: 0.9912 - val_loss: 0.0645\n",
      "Epoch 57/100\n",
      "\u001b[1m727/727\u001b[0m \u001b[32m━━━━━━━━━━━━━━━━━━━━\u001b[0m\u001b[37m\u001b[0m \u001b[1m7s\u001b[0m 10ms/step - accuracy: 0.9993 - loss: 0.0047 - val_accuracy: 0.9912 - val_loss: 0.0652\n",
      "Epoch 58/100\n",
      "\u001b[1m727/727\u001b[0m \u001b[32m━━━━━━━━━━━━━━━━━━━━\u001b[0m\u001b[37m\u001b[0m \u001b[1m7s\u001b[0m 9ms/step - accuracy: 0.9990 - loss: 0.0059 - val_accuracy: 0.9913 - val_loss: 0.0657\n",
      "Epoch 59/100\n",
      "\u001b[1m727/727\u001b[0m \u001b[32m━━━━━━━━━━━━━━━━━━━━\u001b[0m\u001b[37m\u001b[0m \u001b[1m7s\u001b[0m 9ms/step - accuracy: 0.9992 - loss: 0.0048 - val_accuracy: 0.9912 - val_loss: 0.0626\n",
      "Epoch 60/100\n",
      "\u001b[1m727/727\u001b[0m \u001b[32m━━━━━━━━━━━━━━━━━━━━\u001b[0m\u001b[37m\u001b[0m \u001b[1m7s\u001b[0m 9ms/step - accuracy: 0.9985 - loss: 0.0094 - val_accuracy: 0.9929 - val_loss: 0.0314\n",
      "Epoch 61/100\n",
      "\u001b[1m727/727\u001b[0m \u001b[32m━━━━━━━━━━━━━━━━━━━━\u001b[0m\u001b[37m\u001b[0m \u001b[1m7s\u001b[0m 10ms/step - accuracy: 0.9992 - loss: 0.0049 - val_accuracy: 0.9925 - val_loss: 0.0379\n",
      "Epoch 62/100\n",
      "\u001b[1m727/727\u001b[0m \u001b[32m━━━━━━━━━━━━━━━━━━━━\u001b[0m\u001b[37m\u001b[0m \u001b[1m7s\u001b[0m 10ms/step - accuracy: 0.9988 - loss: 0.0069 - val_accuracy: 0.9925 - val_loss: 0.0394\n",
      "Epoch 63/100\n",
      "\u001b[1m727/727\u001b[0m \u001b[32m━━━━━━━━━━━━━━━━━━━━\u001b[0m\u001b[37m\u001b[0m \u001b[1m7s\u001b[0m 9ms/step - accuracy: 0.9989 - loss: 0.0065 - val_accuracy: 0.9926 - val_loss: 0.0406\n",
      "Epoch 64/100\n",
      "\u001b[1m727/727\u001b[0m \u001b[32m━━━━━━━━━━━━━━━━━━━━\u001b[0m\u001b[37m\u001b[0m \u001b[1m7s\u001b[0m 9ms/step - accuracy: 0.9994 - loss: 0.0041 - val_accuracy: 0.9925 - val_loss: 0.0418\n",
      "Epoch 65/100\n",
      "\u001b[1m727/727\u001b[0m \u001b[32m━━━━━━━━━━━━━━━━━━━━\u001b[0m\u001b[37m\u001b[0m \u001b[1m7s\u001b[0m 9ms/step - accuracy: 0.9987 - loss: 0.0071 - val_accuracy: 0.9921 - val_loss: 0.0429\n",
      "Epoch 66/100\n",
      "\u001b[1m727/727\u001b[0m \u001b[32m━━━━━━━━━━━━━━━━━━━━\u001b[0m\u001b[37m\u001b[0m \u001b[1m7s\u001b[0m 10ms/step - accuracy: 0.9987 - loss: 0.0073 - val_accuracy: 0.9921 - val_loss: 0.0441\n",
      "Epoch 67/100\n",
      "\u001b[1m727/727\u001b[0m \u001b[32m━━━━━━━━━━━━━━━━━━━━\u001b[0m\u001b[37m\u001b[0m \u001b[1m7s\u001b[0m 10ms/step - accuracy: 0.9988 - loss: 0.0066 - val_accuracy: 0.9920 - val_loss: 0.0451\n",
      "Epoch 68/100\n",
      "\u001b[1m727/727\u001b[0m \u001b[32m━━━━━━━━━━━━━━━━━━━━\u001b[0m\u001b[37m\u001b[0m \u001b[1m7s\u001b[0m 9ms/step - accuracy: 0.9993 - loss: 0.0046 - val_accuracy: 0.9920 - val_loss: 0.0469\n",
      "Epoch 69/100\n",
      "\u001b[1m727/727\u001b[0m \u001b[32m━━━━━━━━━━━━━━━━━━━━\u001b[0m\u001b[37m\u001b[0m \u001b[1m7s\u001b[0m 10ms/step - accuracy: 0.9992 - loss: 0.0052 - val_accuracy: 0.9920 - val_loss: 0.0477\n",
      "Epoch 70/100\n",
      "\u001b[1m727/727\u001b[0m \u001b[32m━━━━━━━━━━━━━━━━━━━━\u001b[0m\u001b[37m\u001b[0m \u001b[1m7s\u001b[0m 10ms/step - accuracy: 0.9991 - loss: 0.0056 - val_accuracy: 0.9918 - val_loss: 0.0488\n",
      "Epoch 71/100\n",
      "\u001b[1m727/727\u001b[0m \u001b[32m━━━━━━━━━━━━━━━━━━━━\u001b[0m\u001b[37m\u001b[0m \u001b[1m7s\u001b[0m 9ms/step - accuracy: 0.9985 - loss: 0.0083 - val_accuracy: 0.9920 - val_loss: 0.0495\n",
      "Epoch 72/100\n",
      "\u001b[1m727/727\u001b[0m \u001b[32m━━━━━━━━━━━━━━━━━━━━\u001b[0m\u001b[37m\u001b[0m \u001b[1m7s\u001b[0m 9ms/step - accuracy: 0.9990 - loss: 0.0060 - val_accuracy: 0.9918 - val_loss: 0.0511\n",
      "Epoch 73/100\n",
      "\u001b[1m727/727\u001b[0m \u001b[32m━━━━━━━━━━━━━━━━━━━━\u001b[0m\u001b[37m\u001b[0m \u001b[1m7s\u001b[0m 9ms/step - accuracy: 0.9992 - loss: 0.0047 - val_accuracy: 0.9918 - val_loss: 0.0521\n",
      "Epoch 74/100\n",
      "\u001b[1m727/727\u001b[0m \u001b[32m━━━━━━━━━━━━━━━━━━━━\u001b[0m\u001b[37m\u001b[0m \u001b[1m7s\u001b[0m 10ms/step - accuracy: 0.9991 - loss: 0.0052 - val_accuracy: 0.9917 - val_loss: 0.0531\n",
      "Epoch 75/100\n",
      "\u001b[1m727/727\u001b[0m \u001b[32m━━━━━━━━━━━━━━━━━━━━\u001b[0m\u001b[37m\u001b[0m \u001b[1m7s\u001b[0m 9ms/step - accuracy: 0.9991 - loss: 0.0055 - val_accuracy: 0.9917 - val_loss: 0.0538\n",
      "Epoch 76/100\n",
      "\u001b[1m727/727\u001b[0m \u001b[32m━━━━━━━━━━━━━━━━━━━━\u001b[0m\u001b[37m\u001b[0m \u001b[1m7s\u001b[0m 9ms/step - accuracy: 0.9993 - loss: 0.0043 - val_accuracy: 0.9917 - val_loss: 0.0549\n",
      "Epoch 77/100\n",
      "\u001b[1m727/727\u001b[0m \u001b[32m━━━━━━━━━━━━━━━━━━━━\u001b[0m\u001b[37m\u001b[0m \u001b[1m7s\u001b[0m 9ms/step - accuracy: 0.9986 - loss: 0.0077 - val_accuracy: 0.9917 - val_loss: 0.0552\n",
      "Epoch 78/100\n",
      "\u001b[1m727/727\u001b[0m \u001b[32m━━━━━━━━━━━━━━━━━━━━\u001b[0m\u001b[37m\u001b[0m \u001b[1m7s\u001b[0m 10ms/step - accuracy: 0.9992 - loss: 0.0049 - val_accuracy: 0.9917 - val_loss: 0.0563\n",
      "Epoch 79/100\n",
      "\u001b[1m727/727\u001b[0m \u001b[32m━━━━━━━━━━━━━━━━━━━━\u001b[0m\u001b[37m\u001b[0m \u001b[1m7s\u001b[0m 10ms/step - accuracy: 0.9988 - loss: 0.0068 - val_accuracy: 0.9915 - val_loss: 0.0577\n",
      "Epoch 80/100\n",
      "\u001b[1m727/727\u001b[0m \u001b[32m━━━━━━━━━━━━━━━━━━━━\u001b[0m\u001b[37m\u001b[0m \u001b[1m7s\u001b[0m 10ms/step - accuracy: 0.9986 - loss: 0.0075 - val_accuracy: 0.9910 - val_loss: 0.0581\n",
      "Epoch 81/100\n",
      "\u001b[1m727/727\u001b[0m \u001b[32m━━━━━━━━━━━━━━━━━━━━\u001b[0m\u001b[37m\u001b[0m \u001b[1m7s\u001b[0m 9ms/step - accuracy: 0.9991 - loss: 0.0052 - val_accuracy: 0.9909 - val_loss: 0.0624\n",
      "Epoch 82/100\n",
      "\u001b[1m727/727\u001b[0m \u001b[32m━━━━━━━━━━━━━━━━━━━━\u001b[0m\u001b[37m\u001b[0m \u001b[1m7s\u001b[0m 9ms/step - accuracy: 0.9990 - loss: 0.0061 - val_accuracy: 0.9905 - val_loss: 0.0652\n",
      "Epoch 83/100\n",
      "\u001b[1m727/727\u001b[0m \u001b[32m━━━━━━━━━━━━━━━━━━━━\u001b[0m\u001b[37m\u001b[0m \u001b[1m10s\u001b[0m 9ms/step - accuracy: 0.9993 - loss: 0.0042 - val_accuracy: 0.9905 - val_loss: 0.0673\n",
      "Epoch 84/100\n",
      "\u001b[1m727/727\u001b[0m \u001b[32m━━━━━━━━━━━━━━━━━━━━\u001b[0m\u001b[37m\u001b[0m \u001b[1m7s\u001b[0m 9ms/step - accuracy: 0.9989 - loss: 0.0061 - val_accuracy: 0.9904 - val_loss: 0.0645\n",
      "Epoch 85/100\n",
      "\u001b[1m727/727\u001b[0m \u001b[32m━━━━━━━━━━━━━━━━━━━━\u001b[0m\u001b[37m\u001b[0m \u001b[1m7s\u001b[0m 10ms/step - accuracy: 0.9988 - loss: 0.0065 - val_accuracy: 0.9901 - val_loss: 0.0659\n",
      "Epoch 86/100\n",
      "\u001b[1m727/727\u001b[0m \u001b[32m━━━━━━━━━━━━━━━━━━━━\u001b[0m\u001b[37m\u001b[0m \u001b[1m7s\u001b[0m 9ms/step - accuracy: 0.9986 - loss: 0.0078 - val_accuracy: 0.9905 - val_loss: 0.0622\n",
      "Epoch 87/100\n",
      "\u001b[1m727/727\u001b[0m \u001b[32m━━━━━━━━━━━━━━━━━━━━\u001b[0m\u001b[37m\u001b[0m \u001b[1m7s\u001b[0m 9ms/step - accuracy: 0.9988 - loss: 0.0065 - val_accuracy: 0.9902 - val_loss: 0.0686\n",
      "Epoch 88/100\n",
      "\u001b[1m727/727\u001b[0m \u001b[32m━━━━━━━━━━━━━━━━━━━━\u001b[0m\u001b[37m\u001b[0m \u001b[1m7s\u001b[0m 9ms/step - accuracy: 0.9992 - loss: 0.0051 - val_accuracy: 0.9901 - val_loss: 0.0655\n",
      "Epoch 89/100\n",
      "\u001b[1m727/727\u001b[0m \u001b[32m━━━━━━━━━━━━━━━━━━━━\u001b[0m\u001b[37m\u001b[0m \u001b[1m7s\u001b[0m 10ms/step - accuracy: 0.9988 - loss: 0.0069 - val_accuracy: 0.9902 - val_loss: 0.0668\n",
      "Epoch 90/100\n",
      "\u001b[1m727/727\u001b[0m \u001b[32m━━━━━━━━━━━━━━━━━━━━\u001b[0m\u001b[37m\u001b[0m \u001b[1m7s\u001b[0m 9ms/step - accuracy: 0.9994 - loss: 0.0041 - val_accuracy: 0.9899 - val_loss: 0.0735\n",
      "Epoch 91/100\n",
      "\u001b[1m727/727\u001b[0m \u001b[32m━━━━━━━━━━━━━━━━━━━━\u001b[0m\u001b[37m\u001b[0m \u001b[1m7s\u001b[0m 10ms/step - accuracy: 0.9990 - loss: 0.0057 - val_accuracy: 0.9901 - val_loss: 0.0732\n",
      "Epoch 92/100\n",
      "\u001b[1m727/727\u001b[0m \u001b[32m━━━━━━━━━━━━━━━━━━━━\u001b[0m\u001b[37m\u001b[0m \u001b[1m7s\u001b[0m 10ms/step - accuracy: 0.9990 - loss: 0.0058 - val_accuracy: 0.9901 - val_loss: 0.0709\n",
      "Epoch 93/100\n",
      "\u001b[1m727/727\u001b[0m \u001b[32m━━━━━━━━━━━━━━━━━━━━\u001b[0m\u001b[37m\u001b[0m \u001b[1m7s\u001b[0m 9ms/step - accuracy: 0.9992 - loss: 0.0050 - val_accuracy: 0.9901 - val_loss: 0.0725\n",
      "Epoch 94/100\n",
      "\u001b[1m727/727\u001b[0m \u001b[32m━━━━━━━━━━━━━━━━━━━━\u001b[0m\u001b[37m\u001b[0m \u001b[1m7s\u001b[0m 9ms/step - accuracy: 0.9989 - loss: 0.0061 - val_accuracy: 0.9901 - val_loss: 0.0746\n",
      "Epoch 95/100\n",
      "\u001b[1m727/727\u001b[0m \u001b[32m━━━━━━━━━━━━━━━━━━━━\u001b[0m\u001b[37m\u001b[0m \u001b[1m7s\u001b[0m 9ms/step - accuracy: 0.9990 - loss: 0.0057 - val_accuracy: 0.9899 - val_loss: 0.0779\n",
      "Epoch 96/100\n",
      "\u001b[1m727/727\u001b[0m \u001b[32m━━━━━━━━━━━━━━━━━━━━\u001b[0m\u001b[37m\u001b[0m \u001b[1m7s\u001b[0m 10ms/step - accuracy: 0.9992 - loss: 0.0050 - val_accuracy: 0.9896 - val_loss: 0.0827\n",
      "Epoch 97/100\n",
      "\u001b[1m727/727\u001b[0m \u001b[32m━━━━━━━━━━━━━━━━━━━━\u001b[0m\u001b[37m\u001b[0m \u001b[1m7s\u001b[0m 9ms/step - accuracy: 0.9986 - loss: 0.0078 - val_accuracy: 0.9907 - val_loss: 0.0728\n",
      "Epoch 98/100\n",
      "\u001b[1m727/727\u001b[0m \u001b[32m━━━━━━━━━━━━━━━━━━━━\u001b[0m\u001b[37m\u001b[0m \u001b[1m7s\u001b[0m 10ms/step - accuracy: 0.9990 - loss: 0.0056 - val_accuracy: 0.9902 - val_loss: 0.0779\n",
      "Epoch 99/100\n",
      "\u001b[1m727/727\u001b[0m \u001b[32m━━━━━━━━━━━━━━━━━━━━\u001b[0m\u001b[37m\u001b[0m \u001b[1m7s\u001b[0m 10ms/step - accuracy: 0.9991 - loss: 0.0054 - val_accuracy: 0.9899 - val_loss: 0.0800\n",
      "Epoch 100/100\n",
      "\u001b[1m727/727\u001b[0m \u001b[32m━━━━━━━━━━━━━━━━━━━━\u001b[0m\u001b[37m\u001b[0m \u001b[1m7s\u001b[0m 10ms/step - accuracy: 0.9991 - loss: 0.0053 - val_accuracy: 0.9897 - val_loss: 0.0838\n"
     ]
    }
   ],
   "source": [
    "# Train da model\n",
    "\n",
    "if os.path.isfile('model_combined_author_title_gpu.keras'):\n",
    "    model = tf.keras.models.load_model('model_combined_author_title_gpu.keras')\n",
    "else:\n",
    "    model.fit(X_train,y_train,validation_data=(X_test,y_test),epochs=100,batch_size=20)\n",
    "# Training on CPU took 11m 37.4s - Nick\n",
    "# Training on GPU on WSL2 took 11m 34.3s - Nick"
   ]
  },
  {
   "cell_type": "code",
   "execution_count": 31,
   "metadata": {},
   "outputs": [],
   "source": [
    "# Save da model\n",
    "\n",
    "if os.path.isfile('model_combined_author_title_gpu.keras'):\n",
    "    pass\n",
    "else:\n",
    "    model.save('model_combined_author_title_gpu.keras')"
   ]
  },
  {
   "cell_type": "markdown",
   "metadata": {},
   "source": [
    "#### Step 5 - Evaluation "
   ]
  },
  {
   "cell_type": "code",
   "execution_count": 32,
   "metadata": {},
   "outputs": [
    {
     "name": "stdout",
     "output_type": "stream",
     "text": [
      "\u001b[1m195/195\u001b[0m \u001b[32m━━━━━━━━━━━━━━━━━━━━\u001b[0m\u001b[37m\u001b[0m \u001b[1m1s\u001b[0m 3ms/step\n",
      "[1 1 0 ... 0 1 0]\n",
      "[[9.9999690e-01]\n",
      " [1.0000000e+00]\n",
      " [2.8567980e-08]\n",
      " ...\n",
      " [5.0749141e-11]\n",
      " [1.0000000e+00]\n",
      " [1.7237808e-10]]\n"
     ]
    },
    {
     "data": {
      "image/png": "[encoded data removed]",
      "text/plain": [
       "<Figure size 800x800 with 2 Axes>"
      ]
     },
     "metadata": {},
     "output_type": "display_data"
    }
   ],
   "source": [
    "# TODO: THIS y_pred needs to come from the actual testing set (test.csv), NOT the train.csv\n",
    "y_pred = model.predict(X_test)\n",
    "\n",
    "print(y_test)\n",
    "print(y_pred)\n",
    "\n",
    "cm = confusion_matrix(y_test, y_pred.round())\n",
    "\n",
    "def plot_confusion_matrix(cm, classes):\n",
    "    plt.figure(figsize=(8, 8))\n",
    "\n",
    "    plt.imshow(cm, interpolation='nearest', cmap=plt.cm.Blues)\n",
    "    plt.title('Confusion matrix')\n",
    "    plt.colorbar()\n",
    "    tick_marks = np.arange(len(classes))\n",
    "    plt.xticks(tick_marks, classes, rotation=45)\n",
    "    plt.yticks(tick_marks, classes)\n",
    "\n",
    "    threshold = cm.max() / 2\n",
    "    for i, j in itertools.product(range(cm.shape[0]), range(cm.shape[1])):\n",
    "        plt.text(j, i, format(cm[i, j], 'd'), horizontalalignment='center', color='white' if cm[i, j] > threshold else 'black')\n",
    "\n",
    "    plt.tight_layout()\n",
    "    plt.ylabel('True label')\n",
    "    plt.xlabel('Predicted label')\n",
    "\n",
    "plot_confusion_matrix(cm, ['reliable', 'unreliable'])\n"
   ]
  },
  {
   "cell_type": "code",
   "execution_count": 33,
   "metadata": {},
   "outputs": [
    {
     "name": "stdout",
     "output_type": "stream",
     "text": [
      "0.9897304236200257\n",
      "              precision    recall  f1-score   support\n",
      "\n",
      "           0       0.99      0.99      0.99      3154\n",
      "           1       0.99      0.99      0.99      3078\n",
      "\n",
      "    accuracy                           0.99      6232\n",
      "   macro avg       0.99      0.99      0.99      6232\n",
      "weighted avg       0.99      0.99      0.99      6232\n",
      "\n"
     ]
    }
   ],
   "source": [
    "# Accuracy\n",
    "# NOTE: This accuracy is garbage. Training is overfitting in a huge way plus we are not using the proper test set\n",
    "accuracy = accuracy_score(y_test, y_pred.round())\n",
    "print(accuracy)\n",
    "\n",
    "# Classification Report\n",
    "classification_report = classification_report(y_test, y_pred.round())\n",
    "print(classification_report)"
   ]
  }
 ],
 "metadata": {
  "kernelspec": {
   "display_name": "Python 3",
   "language": "python",
   "name": "python3"
  },
  "language_info": {
   "codemirror_mode": {
    "name": "ipython",
    "version": 3
   },
   "file_extension": ".py",
   "mimetype": "text/x-python",
   "name": "python",
   "nbconvert_exporter": "python",
   "pygments_lexer": "ipython3",
   "version": "3.12.1"
  }
 },
 "nbformat": 4,
 "nbformat_minor": 2
}
