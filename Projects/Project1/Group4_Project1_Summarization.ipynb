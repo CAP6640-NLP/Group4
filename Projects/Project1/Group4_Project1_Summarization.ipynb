{
 "cells": [
  {
   "cell_type": "markdown",
   "metadata": {},
   "source": [
    "### CAP 6640 \n",
    "### Project 1 - Extractive Summarization\n",
    "### Feb 8, 2024\n",
    "\n",
    "### Group 4\n",
    "### Andres Graterol\n",
    "###                   UCF ID: 4031393\n",
    "### Zachary Lyons\n",
    "###                   UCF ID: 4226832\n",
    "### Christopher Hinkle\n",
    "###                   UCF ID: 4038573\n",
    "### Nicolas Leocadio\n",
    "###                   UCF ID: 3791733"
   ]
  },
  {
   "cell_type": "code",
   "execution_count": null,
   "metadata": {},
   "outputs": [],
   "source": [
    "import string \n",
    "import nltk \n",
    "import re \n",
    "import numpy as np\n",
    "import networkx as nx\n",
    "\n",
    "from nltk.tokenize import sent_tokenize\n",
    "from nltk.stem.porter import PorterStemmer\n",
    "from nltk.corpus import stopwords\n",
    "from gensim.models import Word2Vec, LsiModel\n",
    "from gensim import corpora\n",
    "from scipy import spatial\n",
    "\n",
    "# Download necessary resources from nltk\n",
    "nltk.download('punkt')\n",
    "nltk.download('stopwords')"
   ]
  },
  {
   "cell_type": "markdown",
   "metadata": {},
   "source": [
    "### Method 1 - TextRank"
   ]
  },
  {
   "cell_type": "markdown",
   "metadata": {},
   "source": [
    "#### Step 1 - Data Collection"
   ]
  },
  {
   "cell_type": "code",
   "execution_count": null,
   "metadata": {},
   "outputs": [],
   "source": [
    "# Gather lengthy articles or a collection of documents that all relate to the same topic (i.e. documents covering an earthquake)\n",
    "# TextRank: Single-document summarization\n",
    "\n",
    "'''\n",
    "    Input: File path to a text file\n",
    "    Output: String of the text file\n",
    "'''\n",
    "def txt_file_to_string(filepath):\n",
    "    with open(filepath, 'r', encoding='utf8') as file:\n",
    "        data = file.read()\n",
    "        data = data.replace('\\n', ' ') # Remove newline characters\n",
    "    return data\n",
    "\n",
    "# Data is located in text format, character escaped, inside the Documents folder\n",
    "# TODO: This is a very short sample document to test functionality. When we confirm this works, lets use a larger document.\n",
    "document_filepath = 'Documents/Japanese_Earthquake-NationalGeographic.txt'\n",
    "document_text = txt_file_to_string(document_filepath)\n",
    "print(document_text)"
   ]
  },
  {
   "cell_type": "markdown",
   "metadata": {},
   "source": [
    "#### Step 2 - Data Preprocessing"
   ]
  },
  {
   "cell_type": "code",
   "execution_count": null,
   "metadata": {},
   "outputs": [],
   "source": [
    "# TextRank: remove punctuation, tokenize, and remove stopwords\n",
    "\n",
    "'''\n",
    "    Purpose: Perform appropriate preprocessing on the text file for the TextRank algorithm\n",
    "'''\n",
    "def preprocess_text(text, stop_words):\n",
    "    tokenized_sentences = sent_tokenize(text, language='english')\n",
    "    print(tokenized_sentences)\n",
    "\n",
    "    sentences_to_lower = [sentence.lower() for sentence in tokenized_sentences]\n",
    "    print(sentences_to_lower)\n",
    "\n",
    "    # Regular Expression to match any punctuation\n",
    "    regex = re.compile('[%s]' % re.escape(string.punctuation))\n",
    "    # Remove the punctuation from the lowercase sentences\n",
    "    sentences_no_punctuation = [regex.sub('', sentence) for sentence in sentences_to_lower]\n",
    "    print(sentences_no_punctuation)\n",
    "\n",
    "    data = [[words for words in sentence.split(' ') if words not in stop_words] for sentence in sentences_no_punctuation]\n",
    "    return data, tokenized_sentences\n",
    "\n",
    "# Obtain stopwords from nltk\n",
    "stop_words = set(stopwords.words('english'))\n",
    "# Preprocess the text to obtain the data we will use going forward\n",
    "data, tokenized_sentences = preprocess_text(document_text, stop_words)\n",
    "print(data)"
   ]
  },
  {
   "cell_type": "markdown",
   "metadata": {},
   "source": [
    "#### Step 3 - Feature Engineering"
   ]
  },
  {
   "cell_type": "code",
   "execution_count": null,
   "metadata": {},
   "outputs": [],
   "source": [
    "# TextRank: Word Embeddings \n",
    " \n",
    "# Grab the maximum number of words in a sentence for padding sentence embeddings\n",
    "max_sentence_length = max([len(sentence) for sentence in data])\n",
    "\n",
    "'''\n",
    "    Train the Word2Vec model on the data and calculate embeddings for each word\n",
    "        min_count: Ignores all words with total frequency lower than this\n",
    "        vector_size: Dimensionality of the word vectors\n",
    "'''\n",
    "# NOTE: If output is unsatsifactory, train for longer epochs\n",
    "model = Word2Vec(data, min_count=1, vector_size=1, epochs=5000)\n",
    "\n",
    "# Grab sentence embeddings by leveraging the word embeddings and sentence tokens\n",
    "sentence_embeddings = [[model.wv[word][0] for word in words] for words in data]\n",
    "\n",
    "# Pad the sentence embeddings with 0's to ensure all sentences have the same length\n",
    "sentence_embeddings = [np.pad(embedding, (0, max_sentence_length - len(embedding)), 'constant') for embedding in sentence_embeddings]\n",
    "\n",
    "# Calculate the similarity matrix\n",
    "# Instantiate a matrix of zeros with the same shape as the number of sentences\n",
    "similarity_matrix = np.zeros([len(data), len(data)])\n",
    "\n",
    "# Populate the similarity matrix with cosine similarity scores (same as 1 - cosine distance)\n",
    "for i, row in enumerate(sentence_embeddings):\n",
    "    for j, col in enumerate(sentence_embeddings):\n",
    "        similarity_matrix[i][j] = 1 - spatial.distance.cosine(row, col)\n",
    "\n",
    "print(similarity_matrix)\n"
   ]
  },
  {
   "cell_type": "markdown",
   "metadata": {},
   "source": [
    "#### Step 4 - Algorithm and Results\n"
   ]
  },
  {
   "cell_type": "code",
   "execution_count": null,
   "metadata": {},
   "outputs": [],
   "source": [
    "# TextRank: Call nx's pagerank to get scores. \n",
    "\n",
    "''' \n",
    "    Get the top n sentences from pagerank scores\n",
    "'''\n",
    "def top_n_sentences(n, scores, tokenized_sentences):\n",
    "    # Key => Sentence \n",
    "    # Value => PageRank Score\n",
    "    sentence_score_dict = {sentence:scores[i] for i, sentence in enumerate(tokenized_sentences)}\n",
    "\n",
    "    # Filter the dictionary to contain only the top n sentences\n",
    "    top_sentences = dict(sorted(sentence_score_dict.items(), key=lambda item: item[1], reverse=True)[:n])\n",
    "\n",
    "    return top_sentences\n",
    "\n",
    "# Convert similarity matrix to an nx graph and call nx's pagerank\n",
    "graph = nx.from_numpy_array(similarity_matrix)\n",
    "scores = nx.pagerank(graph)\n",
    "\n",
    "# NOTE: Modify this variable to change the number of sentences in the summary\n",
    "num_sent_to_extract = 4\n",
    "\n",
    "extractive_summary = top_n_sentences(num_sent_to_extract, scores, tokenized_sentences)\n",
    "\n",
    "# Iterate through the dictionary to output the summary\n",
    "for sentence, score in extractive_summary.items():\n",
    "    print(sentence)\n",
    "\n"
   ]
  },
  {
   "cell_type": "markdown",
   "metadata": {},
   "source": [
    "#### Last Step - Evaluation"
   ]
  },
  {
   "cell_type": "code",
   "execution_count": null,
   "metadata": {},
   "outputs": [],
   "source": [
    "# NOTE: Evaluation will depend on the method used to implement extractive summarization\n",
    "#       - ILP (Integer Linear Programming): We can use ROUGE-2 for evaluation\n",
    "# Andres NOTE: This is the only section that I am unsure of. It would be cool to use ROUGE-2 to compare our TextRank algorithm to the bigram inspection \n"
   ]
  },
  {
   "cell_type": "markdown",
   "metadata": {},
   "source": [
    "### Method 2 - Latent Semantic Indexing (LSI)"
   ]
  },
  {
   "cell_type": "markdown",
   "metadata": {},
   "source": [
    "#### Step 1 - Data Collection"
   ]
  },
  {
   "cell_type": "code",
   "execution_count": null,
   "metadata": {},
   "outputs": [],
   "source": [
    "# Gather lengthy articles or a collection of documents that all relate to the same topic (i.e. documents covering an earthquake)\n",
    "# LSI (Latent Sentiment Indexing): Multi-document summarization\n",
    "# Gather lengthy articles or a collection of documents that all relate to the same topic (i.e. documents covering an earthquake)\n",
    "# TextRank: Single-document summarization\n",
    "\n",
    "'''\n",
    "    Input: File path to multiple text files\n",
    "    Output: List of multiple text\n",
    "'''\n",
    "def txt_files_to_string(filepaths) -> list[list[str]]:\n",
    "    i = 0\n",
    "    document_list = []\n",
    "    for file in filepaths:\n",
    "        with open(file, 'r', encoding='utf8') as file:\n",
    "            data = file.read()\n",
    "            data = data.replace('\\n', ' ') # Remove newline characters\n",
    "            document_list.append(data)\n",
    "    return document_list\n",
    "#print(data)\n",
    "# Data is located in text format, character escaped, inside the Documents folder\n",
    "# TODO: This is a very short sample document to test functionality. When we confirm this works, lets use a larger document.\n",
    "document_filepath_1 = 'Documents/Japanese_Earthquake-NationalGeographic.txt'\n",
    "document_filepath_2 = 'Documents/Japanese_Earthquake-Britannica.txt'\n",
    "documents = [document_filepath_1, document_filepath_2]\n",
    "document_text_list = txt_files_to_string(documents)\n"
   ]
  },
  {
   "cell_type": "markdown",
   "metadata": {},
   "source": [
    "#### Step 2 - Data Preprocessing"
   ]
  },
  {
   "cell_type": "code",
   "execution_count": 47,
   "metadata": {},
   "outputs": [
    {
     "name": "stdout",
     "output_type": "stream",
     "text": [
      "[<bound method Dictionary.doc2bow of <gensim.corpora.dictionary.Dictionary object at 0x000001755E4BBD50>>, <bound method Dictionary.doc2bow of <gensim.corpora.dictionary.Dictionary object at 0x000001755E4BBD50>>]\n"
     ]
    }
   ],
   "source": [
    "# LSI (Latent Sentiment Indexing): Tokenize, remove stopwords, and stem the words\n",
    "def preprocess_lsi_text(document_list) -> list:\n",
    "    stop_words = set(stopwords.words('english'))\n",
    "    stemmer = PorterStemmer()\n",
    "    processed_docs = []\n",
    "    for doc in document_list:\n",
    "    # Tokenizer\n",
    "        tokenized_sentences = sent_tokenize(doc, language='english')  \n",
    "    # LowerCase\n",
    "        sentences_to_lower = [sentence.lower() for sentence in tokenized_sentences]\n",
    "    # Remove Punctuation\n",
    "        regex = re.compile('[%s]' % re.escape(string.punctuation))\n",
    "        sentences_no_punctuation = [regex.sub('', sentence) for sentence in sentences_to_lower]\n",
    "    # Remove Stop words\n",
    "        removed_stop_words = [[words for words in sentence.split(' ') if words not in stop_words] for sentence in sentences_no_punctuation]\n",
    "    # Stemming\n",
    "        stemmed_words = []\n",
    "        for sentences in removed_stop_words:\n",
    "            for word in sentences:\n",
    "                stemmed_words.append(stemmer.stem(word))\n",
    "        \n",
    "        processed_docs.append(stemmed_words)\n",
    "    return processed_docs\n",
    "    # Build Dictionary\n",
    "    # Bag of wor\n",
    "processed_docs = preprocess_lsi_text(document_text_list)"
   ]
  },
  {
   "cell_type": "markdown",
   "metadata": {},
   "source": [
    "#### Step 3 - Feature Engineering"
   ]
  },
  {
   "cell_type": "code",
   "execution_count": 51,
   "metadata": {},
   "outputs": [
    {
     "name": "stdout",
     "output_type": "stream",
     "text": [
      "LsiModel<num_terms=317, num_topics=2, decay=1.0, chunksize=20000>\n"
     ]
    }
   ],
   "source": [
    "# LSI (Latent Sentiment Indexing): Term Frequency\n",
    "# Create a dictionary mapping\n",
    "dictionary = corpora.Dictionary(processed_docs)\n",
    "# Bag of words\n",
    "bow_corpus = [dictionary.doc2bow(doc) for doc in processed_docs]\n"
   ]
  },
  {
   "cell_type": "markdown",
   "metadata": {},
   "source": [
    "#### Step 4 - Algorithm and Results"
   ]
  },
  {
   "cell_type": "code",
   "execution_count": 67,
   "metadata": {},
   "outputs": [
    {
     "ename": "ValueError",
     "evalue": "shapes (2,) and (0,) not aligned: 2 (dim 0) != 0 (dim 0)",
     "output_type": "error",
     "traceback": [
      "\u001b[1;31m---------------------------------------------------------------------------\u001b[0m",
      "\u001b[1;31mValueError\u001b[0m                                Traceback (most recent call last)",
      "Cell \u001b[1;32mIn[67], line 37\u001b[0m\n\u001b[0;32m     34\u001b[0m     \u001b[38;5;28;01mreturn\u001b[39;00m summaries\n\u001b[0;32m     36\u001b[0m \u001b[38;5;66;03m# Generate and print summaries for each document\u001b[39;00m\n\u001b[1;32m---> 37\u001b[0m summaries \u001b[38;5;241m=\u001b[39m \u001b[43mgenerate_summary_for_documents\u001b[49m\u001b[43m(\u001b[49m\u001b[43mdocuments\u001b[49m\u001b[43m)\u001b[49m\n\u001b[0;32m     38\u001b[0m \u001b[38;5;28;01mfor\u001b[39;00m i, summary \u001b[38;5;129;01min\u001b[39;00m \u001b[38;5;28menumerate\u001b[39m(summaries):\n\u001b[0;32m     39\u001b[0m     \u001b[38;5;28mprint\u001b[39m(\u001b[38;5;124mf\u001b[39m\u001b[38;5;124m\"\u001b[39m\u001b[38;5;124mSummary for Document \u001b[39m\u001b[38;5;132;01m{\u001b[39;00mi\u001b[38;5;241m+\u001b[39m\u001b[38;5;241m1\u001b[39m\u001b[38;5;132;01m}\u001b[39;00m\u001b[38;5;124m:\u001b[39m\u001b[38;5;124m\"\u001b[39m)\n",
      "Cell \u001b[1;32mIn[67], line 30\u001b[0m, in \u001b[0;36mgenerate_summary_for_documents\u001b[1;34m(documents, num_sentences)\u001b[0m\n\u001b[0;32m     28\u001b[0m \u001b[38;5;28;01mfor\u001b[39;00m doc \u001b[38;5;129;01min\u001b[39;00m documents:\n\u001b[0;32m     29\u001b[0m     sentences \u001b[38;5;241m=\u001b[39m sent_tokenize(doc)\n\u001b[1;32m---> 30\u001b[0m     ranked_sentences \u001b[38;5;241m=\u001b[39m \u001b[43mrank_sentences\u001b[49m\u001b[43m(\u001b[49m\u001b[43msentences\u001b[49m\u001b[43m,\u001b[49m\u001b[43m \u001b[49m\u001b[43mlsi_text\u001b[49m\u001b[43m[\u001b[49m\u001b[43mdocuments\u001b[49m\u001b[38;5;241;43m.\u001b[39;49m\u001b[43mindex\u001b[49m\u001b[43m(\u001b[49m\u001b[43mdoc\u001b[49m\u001b[43m)\u001b[49m\u001b[43m]\u001b[49m\u001b[43m)\u001b[49m\n\u001b[0;32m     31\u001b[0m     summary_sentences \u001b[38;5;241m=\u001b[39m [sentence[\u001b[38;5;241m0\u001b[39m] \u001b[38;5;28;01mfor\u001b[39;00m sentence \u001b[38;5;129;01min\u001b[39;00m ranked_sentences[:num_sentences]]\n\u001b[0;32m     32\u001b[0m     summary \u001b[38;5;241m=\u001b[39m \u001b[38;5;124m'\u001b[39m\u001b[38;5;124m \u001b[39m\u001b[38;5;124m'\u001b[39m\u001b[38;5;241m.\u001b[39mjoin(summary_sentences)\n",
      "Cell \u001b[1;32mIn[67], line 20\u001b[0m, in \u001b[0;36mrank_sentences\u001b[1;34m(sentences, lsi_doc)\u001b[0m\n\u001b[0;32m     18\u001b[0m     sentence_bow \u001b[38;5;241m=\u001b[39m dictionary\u001b[38;5;241m.\u001b[39mdoc2bow(sentence_tokens)\n\u001b[0;32m     19\u001b[0m     sentence_lsi \u001b[38;5;241m=\u001b[39m lsi_model[sentence_bow]\n\u001b[1;32m---> 20\u001b[0m     similarity \u001b[38;5;241m=\u001b[39m \u001b[43mnp\u001b[49m\u001b[38;5;241;43m.\u001b[39;49m\u001b[43mdot\u001b[49m\u001b[43m(\u001b[49m\u001b[43m[\u001b[49m\u001b[43mtup\u001b[49m\u001b[43m[\u001b[49m\u001b[38;5;241;43m1\u001b[39;49m\u001b[43m]\u001b[49m\u001b[43m \u001b[49m\u001b[38;5;28;43;01mfor\u001b[39;49;00m\u001b[43m \u001b[49m\u001b[43mtup\u001b[49m\u001b[43m \u001b[49m\u001b[38;5;129;43;01min\u001b[39;49;00m\u001b[43m \u001b[49m\u001b[43mlsi_doc\u001b[49m\u001b[43m]\u001b[49m\u001b[43m,\u001b[49m\u001b[43m \u001b[49m\u001b[43m[\u001b[49m\u001b[43mtup\u001b[49m\u001b[43m[\u001b[49m\u001b[38;5;241;43m1\u001b[39;49m\u001b[43m]\u001b[49m\u001b[43m \u001b[49m\u001b[38;5;28;43;01mfor\u001b[39;49;00m\u001b[43m \u001b[49m\u001b[43mtup\u001b[49m\u001b[43m \u001b[49m\u001b[38;5;129;43;01min\u001b[39;49;00m\u001b[43m \u001b[49m\u001b[43msentence_lsi\u001b[49m\u001b[43m]\u001b[49m\u001b[43m)\u001b[49m\n\u001b[0;32m     21\u001b[0m     ranked_sentences\u001b[38;5;241m.\u001b[39mappend((sentence, similarity))\n\u001b[0;32m     22\u001b[0m ranked_sentences\u001b[38;5;241m.\u001b[39msort(key\u001b[38;5;241m=\u001b[39m\u001b[38;5;28;01mlambda\u001b[39;00m x: x[\u001b[38;5;241m1\u001b[39m], reverse\u001b[38;5;241m=\u001b[39m\u001b[38;5;28;01mTrue\u001b[39;00m)\n",
      "\u001b[1;31mValueError\u001b[0m: shapes (2,) and (0,) not aligned: 2 (dim 0) != 0 (dim 0)"
     ]
    }
   ],
   "source": [
    "# LSI (Latent Sentiment Indexing): Create LSI Model using Gensim\n",
    "lsi_model = LsiModel(bow_corpus,num_topics=2, id2word= dictionary)\n",
    "# Sort documents by weight \n",
    "lsi_text = [lsi_model[doc] for doc in bow_corpus]\n",
    "\n",
    "# Check if lsi_text is empty before accessing its elements\n",
    "    # Sort vectors by score \n",
    "\n",
    "    # Select top documents \n",
    "\n",
    "    # Sort sentence numbers in order \n",
    "\n",
    "    # Obtain the summary\n"
   ]
  },
  {
   "cell_type": "markdown",
   "metadata": {},
   "source": [
    "#### Last Step - Evaluation"
   ]
  },
  {
   "cell_type": "code",
   "execution_count": null,
   "metadata": {},
   "outputs": [],
   "source": []
  },
  {
   "cell_type": "markdown",
   "metadata": {},
   "source": [
    "#### References\n",
    "##### The following tutorials helped us implement the algorithms in the document:\n",
    "##### 1. https://medium.com/data-science-in-your-pocket/text-summarization-using-textrank-in-nlp-4bce52c5b390\n",
    "##### 2. https://towardsdatascience.com/document-summarization-using-latent-semantic-indexing-b747ef2d2af6 "
   ]
  }
 ],
 "metadata": {
  "kernelspec": {
   "display_name": "NLP",
   "language": "python",
   "name": "python3"
  },
  "language_info": {
   "codemirror_mode": {
    "name": "ipython",
    "version": 3
   },
   "file_extension": ".py",
   "mimetype": "text/x-python",
   "name": "python",
   "nbconvert_exporter": "python",
   "pygments_lexer": "ipython3",
   "version": "3.11.4"
  }
 },
 "nbformat": 4,
 "nbformat_minor": 2
}
