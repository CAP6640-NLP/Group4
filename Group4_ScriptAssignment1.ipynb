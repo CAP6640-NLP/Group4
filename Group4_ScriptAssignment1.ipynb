{
  "cells": [
    {
      "cell_type": "markdown",
      "metadata": {
        "id": "OOkZzQ0ibOVM"
      },
      "source": [
        "# CAP 6640 \n",
        "# Script Assignment 1\n",
        "# Jan 25, 2024\n",
        "\n",
        "# Group 4\n",
        "# Andres Graterol\n",
        "#                   UCF ID: 4031393\n",
        "# Zachary Lyons\n",
        "#                   UCF ID: 4226832\n",
        "# Christopher Hinkle\n",
        "#                   UCF ID: 4038573\n",
        "# Nicolas Leocadio\n",
        "#                   UCF ID: 3791733"
      ]
    },
    {
      "cell_type": "code",
      "execution_count": 1,
      "metadata": {
        "id": "TnwhApaIbOVN"
      },
      "outputs": [],
      "source": [
        "import json\n",
        "import nltk\n",
        "import gensim.downloader as genapi\n",
        "import random"
      ]
    },
    {
      "cell_type": "markdown",
      "metadata": {
        "id": "PcNVhN7qbOVN"
      },
      "source": [
        "## Load the Chosen Corpous and Pre-trained Word2Vec model into variables"
      ]
    },
    {
      "cell_type": "code",
      "execution_count": 2,
      "metadata": {
        "id": "DCnqD1Q3bOVO"
      },
      "outputs": [],
      "source": [
        "corpus = genapi.load(\"text8\")\n",
        "word2vec = genapi.load(\"word2vec-google-news-300\")"
      ]
    },
    {
      "cell_type": "markdown",
      "metadata": {
        "id": "J-UutPJJ8QD-"
      },
      "source": [
        "Create similarity analysis and similar words functions"
      ]
    },
    {
      "cell_type": "code",
      "execution_count": 3,
      "metadata": {
        "id": "kKrhe4dJbOVO"
      },
      "outputs": [],
      "source": [
        "'''\n",
        "    Function that takes two words as input and returns their cosine similarity score from word2vec\n",
        "'''\n",
        "def similiarity_analysis(word1: str, word2: str):\n",
        "    # Grab the score using the model's similiarity method (uses cosine similarity)\n",
        "    score = word2vec.similarity(word1, word2)\n",
        "    return score\n",
        "'''\n",
        "    Funtion that takes a word as well as N, the number of most similar words wanted to return\n",
        "'''\n",
        "def most_similar_words(word1: str, n: int):\n",
        "      print(word2vec.most_similar(word1, topn = n))\n"
      ]
    },
    {
      "cell_type": "markdown",
      "metadata": {
        "id": "qkQwyzRX8dLR"
      },
      "source": [
        "Convert corpus to list of words to pull from"
      ]
    },
    {
      "cell_type": "code",
      "execution_count": 4,
      "metadata": {
        "id": "NuaSwGgXsnFO"
      },
      "outputs": [],
      "source": [
        "corp_list = list()\n",
        "for x in corpus:\n",
        "  for y in x:\n",
        "    corp_list.append(y)\n"
      ]
    },
    {
      "cell_type": "markdown",
      "metadata": {
        "id": "sUWgqsfH8iL8"
      },
      "source": [
        "Print out a few words to test similarity analysis function"
      ]
    },
    {
      "cell_type": "code",
      "execution_count": 5,
      "metadata": {
        "id": "VuNoTgtH3Vje"
      },
      "outputs": [],
      "source": [
        "def print_few_words(corp_list):\n",
        "  for i in range(5):\n",
        "    word1 = random.choice(corp_list)\n",
        "    word2 = random.choice(corp_list)\n",
        "\n",
        "    # Ensures that the randomly sampled word is in our word2vec\n",
        "    while word1 not in word2vec.index_to_key:\n",
        "      word1 = random.choice(corp_list)\n",
        "\n",
        "    while word2 not in word2vec.index_to_key:\n",
        "      word2 = random.choice(corp_list)\n",
        "\n",
        "    print(\"Word 1: \", word1)\n",
        "    print(\"Word 2: \", word2)\n",
        "    print(\"Similarity Score:\")\n",
        "    print(similiarity_analysis(word1, word2))\n",
        "    print()"
      ]
    },
    {
      "cell_type": "markdown",
      "metadata": {
        "id": "OTtVBy5g9May"
      },
      "source": [
        "Call print few words and grab two random words to find 10 words similar to them"
      ]
    },
    {
      "cell_type": "code",
      "execution_count": 10,
      "metadata": {
        "colab": {
          "base_uri": "https://localhost:8080/"
        },
        "id": "8I_lieWB0oeb",
        "outputId": "c5fc1274-364a-4695-df30-917d04eb6dc8"
      },
      "outputs": [
        {
          "name": "stdout",
          "output_type": "stream",
          "text": [
            "Word 1:  talents\n",
            "Word 2:  genes\n",
            "Similarity Score:\n",
            "0.18194528\n",
            "\n",
            "Word 1:  his\n",
            "Word 2:  geometry\n",
            "Similarity Score:\n",
            "0.042859685\n",
            "\n",
            "Word 1:  incompatible\n",
            "Word 2:  stalin\n",
            "Similarity Score:\n",
            "0.20793015\n",
            "\n",
            "Word 1:  be\n",
            "Word 2:  the\n",
            "Similarity Score:\n",
            "0.30260676\n",
            "\n",
            "Word 1:  omission\n",
            "Word 2:  juan\n",
            "Similarity Score:\n",
            "0.012101334\n",
            "\n",
            "\n",
            "10 Most similar words\n",
            "\n",
            "Words similar to  two\n",
            "[('three', 0.9291842579841614), ('four', 0.8974583745002747), ('five', 0.8395727276802063), ('six', 0.8232563138008118), ('seven', 0.805267870426178), ('eight', 0.8016314506530762), ('nine', 0.7531253695487976), ('several', 0.711776077747345), ('Two', 0.6772123575210571), ('couple', 0.676679253578186)]\n",
            "\n",
            "Words similar to  meaning\n",
            "[('meanings', 0.5785344243049622), ('means', 0.5219777822494507), ('Designated_hitter_Joe_Mauer', 0.5154452919960022), ('denotations', 0.46200504899024963), ('denote', 0.45986276865005493), ('mean', 0.45756712555885315), ('connotation', 0.4568317234516144), ('phrase', 0.45196765661239624), ('denotative', 0.44613420963287354), ('grammatical_constructions', 0.4423026442527771)]\n"
          ]
        }
      ],
      "source": [
        "print_few_words(corp_list)\n",
        "\n",
        "''' Below we're grabbing two random words from the corpus and producing the 10 most similar words to them'''\n",
        "\n",
        "word1 = random.choice(corp_list)\n",
        "word2 = random.choice(corp_list)\n",
        "\n",
        "while word1 not in word2vec.index_to_key:\n",
        "  word1 = random.choice(corp_list)\n",
        "\n",
        "while word2 not in word2vec.index_to_key:\n",
        "  word2 = random.choice(corp_list)\n",
        "\n",
        "print(\"\\n10 Most similar words\")\n",
        "print(\"\\nWords similar to \", word1)\n",
        "\n",
        "most_similar_words(word1, 10)\n",
        "\n",
        "print(\"\\nWords similar to \", word2)\n",
        "\n",
        "most_similar_words(word2, 10)"
      ]
    }
  ],
  "metadata": {
    "colab": {
      "provenance": [],
      "toc_visible": true
    },
    "kernelspec": {
      "display_name": "Python 3",
      "language": "python",
      "name": "python3"
    },
    "language_info": {
      "codemirror_mode": {
        "name": "ipython",
        "version": 3
      },
      "file_extension": ".py",
      "mimetype": "text/x-python",
      "name": "python",
      "nbconvert_exporter": "python",
      "pygments_lexer": "ipython3",
      "version": "3.12.1"
    }
  },
  "nbformat": 4,
  "nbformat_minor": 0
}
