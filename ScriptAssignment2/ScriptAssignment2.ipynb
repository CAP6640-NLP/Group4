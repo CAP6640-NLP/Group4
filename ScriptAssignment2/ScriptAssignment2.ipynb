{
 "cells": [
  {
   "cell_type": "markdown",
   "metadata": {},
   "source": [
    "# CAP 6640 \n",
    "# Script Assignment 1\n",
    "# Jan 25, 2024\n",
    "\n",
    "# Group 4\n",
    "# Andres Graterol\n",
    "#                   UCF ID: 4031393\n",
    "# Zachary Lyons\n",
    "#                   UCF ID: 4226832\n",
    "# Christopher Hinkle\n",
    "#                   UCF ID: 4038573\n",
    "# Nicolas Leocadio\n",
    "#                   UCF ID: 3791733"
   ]
  },
  {
   "cell_type": "markdown",
   "metadata": {},
   "source": [
    "We start by reading our corpus data, which is a list of tech news articles found from kaggle\n",
    "\n",
    "https://www.kaggle.com/datasets/harshityadav95/tech-news-articles\n",
    "\n",
    "There is a requirements.txt file with all the needed python modules, \"pip install -r requirements.txt\"\n",
    "\n",
    "Old: Prior to running, download corpus from top right of link and then extract to a folder called \"archive\" in the same directory as this file\n",
    "New: Extract archive.zip (its 1.5GB lol) to ./archive\n",
    "\n",
    "\n",
    "------------- ./ScriptAssignment2.ipynb\n",
    "\n",
    "------------- ./archive/CSV_sampleDataset_DataAnalyticsTrack.csv"
   ]
  },
  {
   "cell_type": "code",
   "execution_count": 3,
   "metadata": {},
   "outputs": [
    {
     "name": "stderr",
     "output_type": "stream",
     "text": [
      "[nltk_data] Downloading package punkt to\n",
      "[nltk_data]     C:\\Users\\nick_\\AppData\\Roaming\\nltk_data...\n",
      "[nltk_data]   Package punkt is already up-to-date!\n",
      "[nltk_data] Downloading package stopwords to\n",
      "[nltk_data]     C:\\Users\\nick_\\AppData\\Roaming\\nltk_data...\n",
      "[nltk_data]   Package stopwords is already up-to-date!\n"
     ]
    },
    {
     "data": {
      "text/plain": [
       "True"
      ]
     },
     "execution_count": 3,
     "metadata": {},
     "output_type": "execute_result"
    }
   ],
   "source": [
    "import nltk\n",
    "import re\n",
    "nltk.download('punkt')  # one time execution if not cached yet\n",
    "nltk.download('stopwords')  # one time execution if not cached yet"
   ]
  },
  {
   "cell_type": "code",
   "execution_count": 4,
   "metadata": {},
   "outputs": [],
   "source": [
    "def read_data(file_path):\n",
    "    # labels = []\n",
    "    corpus = []\n",
    "\n",
    "    with open(file_path, encoding=\"utf8\", errors='ignore') as f_input:\n",
    "        corpus.append((f_input.read()))\n",
    "        # labels.append(file_path.split('/')[-2])\n",
    "    return corpus\n",
    "\n",
    "corpus = read_data(\"archive/CSV_sampleDataset_DataAnalyticsTrack.csv\")"
   ]
  },
  {
   "cell_type": "code",
   "execution_count": 5,
   "metadata": {},
   "outputs": [
    {
     "data": {
      "text/plain": [
       "['becoming',\n",
       " 'increasingly',\n",
       " 'difficult',\n",
       " 'particularly',\n",
       " 'as',\n",
       " 'embedded',\n",
       " 'systems',\n",
       " 'become',\n",
       " 'more',\n",
       " 'specialized']"
      ]
     },
     "execution_count": 5,
     "metadata": {},
     "output_type": "execute_result"
    }
   ],
   "source": [
    "def tokenize(corpus):\n",
    "    regex = re.compile('[^a-zA-Z0-9]')  # regex to only match alphanumeric characters\n",
    "    tokens = []\n",
    "    \n",
    "    for sent in nltk.sent_tokenize(corpus):\n",
    "        for word in nltk.word_tokenize(sent):\n",
    "            clean_word = regex.sub('', word)\n",
    "            if clean_word:  # make sure we're not appending empty strings\n",
    "                tokens.append(clean_word.lower())\n",
    "    return tokens\n",
    "\n",
    "tokens = tokenize(corpus[0])\n",
    "tokens[50:60]"
   ]
  },
  {
   "cell_type": "code",
   "execution_count": 6,
   "metadata": {},
   "outputs": [
    {
     "data": {
      "text/plain": [
       "['jose',\n",
       " 'calif',\n",
       " 'lexra',\n",
       " 'inc',\n",
       " 'san',\n",
       " 'jose',\n",
       " 'resolves',\n",
       " 'many',\n",
       " 'problems',\n",
       " 'configurable']"
      ]
     },
     "execution_count": 6,
     "metadata": {},
     "output_type": "execute_result"
    }
   ],
   "source": [
    "def remove_stopwords(tokens):\n",
    "    stopwords = nltk.corpus.stopwords.words('english')\n",
    "    return [word for word in tokens if word not in stopwords]\n",
    "\n",
    "no_stopwords = remove_stopwords(tokens)\n",
    "no_stopwords[50:60]"
   ]
  },
  {
   "cell_type": "code",
   "execution_count": 7,
   "metadata": {},
   "outputs": [
    {
     "data": {
      "text/plain": [
       "['jose',\n",
       " 'calif',\n",
       " 'lexra',\n",
       " 'inc',\n",
       " 'san',\n",
       " 'jose',\n",
       " 'resolv',\n",
       " 'mani',\n",
       " 'problem',\n",
       " 'configur']"
      ]
     },
     "execution_count": 7,
     "metadata": {},
     "output_type": "execute_result"
    }
   ],
   "source": [
    "from nltk.stem.snowball import SnowballStemmer\n",
    "stemmer = SnowballStemmer(\"english\")\n",
    "\n",
    "def stem_words(word):\n",
    "    return stemmer.stem(word).strip()\n",
    "\n",
    "stemmed = [stem_words(word) for word in no_stopwords]\n",
    "stemmed[50:60]"
   ]
  },
  {
   "cell_type": "code",
   "execution_count": 8,
   "metadata": {},
   "outputs": [
    {
     "name": "stderr",
     "output_type": "stream",
     "text": [
      "c:\\Users\\nick_\\Documents\\MSCpE\\CAP6640 Natural Language Processing\\venv\\Lib\\site-packages\\sklearn\\feature_extraction\\text.py:525: UserWarning: The parameter 'token_pattern' will not be used since 'tokenizer' is not None'\n",
      "  warnings.warn(\n",
      "c:\\Users\\nick_\\Documents\\MSCpE\\CAP6640 Natural Language Processing\\venv\\Lib\\site-packages\\sklearn\\feature_extraction\\text.py:408: UserWarning: Your stop_words may be inconsistent with your preprocessing. Tokenizing the stop words generated tokens ['abov', 'afterward', 'alon', 'alreadi', 'alway', 'ani', 'anoth', 'anyon', 'anyth', 'anywher', 'becam', 'becaus', 'becom', 'befor', 'besid', 'cri', 'describ', 'dure', 'els', 'elsewher', 'empti', 'everi', 'everyon', 'everyth', 'everywher', 'fifti', 'forti', 'henc', 'hereaft', 'herebi', 'howev', 'hundr', 'inde', 'mani', 'meanwhil', 'moreov', 'nobodi', 'noon', 'noth', 'nowher', 'onc', 'onli', 'otherwis', 'ourselv', 'perhap', 'pleas', 'sever', 'sinc', 'sincer', 'sixti', 'someon', 'someth', 'sometim', 'somewher', 'themselv', 'thenc', 'thereaft', 'therebi', 'therefor', 'togeth', 'twelv', 'twenti', 'veri', 'whatev', 'whenc', 'whenev', 'wherea', 'whereaft', 'wherebi', 'wherev', 'whi', 'yourselv'] not in stop_words.\n",
      "  warnings.warn(\n"
     ]
    }
   ],
   "source": [
    "from sklearn.feature_extraction.text import TfidfVectorizer\n",
    "\n",
    "tfidf = TfidfVectorizer(max_df=0.8, max_features=200000,\n",
    "                        min_df=0.05, stop_words='english',\n",
    "                        use_idf=True, tokenizer=tokenize,\n",
    "                        preprocessor=stem_words, lowercase=True)\n",
    "tfidf_matrix = tfidf.fit_transform(corpus)"
   ]
  }
 ],
 "metadata": {
  "kernelspec": {
   "display_name": "venv",
   "language": "python",
   "name": "python3"
  },
  "language_info": {
   "codemirror_mode": {
    "name": "ipython",
    "version": 3
   },
   "file_extension": ".py",
   "mimetype": "text/x-python",
   "name": "python",
   "nbconvert_exporter": "python",
   "pygments_lexer": "ipython3",
   "version": "3.12.1"
  }
 },
 "nbformat": 4,
 "nbformat_minor": 2
}
