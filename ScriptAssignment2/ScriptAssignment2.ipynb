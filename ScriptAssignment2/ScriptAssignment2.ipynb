{
 "cells": [
  {
   "cell_type": "markdown",
   "metadata": {},
   "source": [
    "### CAP 6640 \n",
    "### Script Assignment 2\n",
    "### Feb 15, 2024\n",
    "\n",
    "### Group 4\n",
    "### Andres Graterol\n",
    "###                   UCF ID: 4031393\n",
    "### Zachary Lyons\n",
    "###                   UCF ID: 4226832\n",
    "### Christopher Hinkle\n",
    "###                   UCF ID: 4038573\n",
    "### Nicolas Leocadio\n",
    "###                   UCF ID: 3791733"
   ]
  },
  {
   "cell_type": "markdown",
   "metadata": {},
   "source": [
    "We start by reading our corpus data, which is a list of tech news articles found from kaggle\n",
    "\n",
    "https://www.kaggle.com/datasets/jeet2016/us-financial-news-articles\n",
    "\n",
    "There is a requirements.txt file with all the needed python modules, \"pip install -r requirements.txt\"\n",
    "\n",
    "Old: Prior to running, download corpus from top right of link and then extract to a folder called \"archive\" in the same directory as this file\n",
    "New: Extract archive.zip (it's 1.89GB) to ./archive_usfinancial\n",
    "\n",
    "\n",
    "------------- ./ScriptAssignment2.ipynb\n",
    "\n",
    "------------- ./archive_usfinancial/*"
   ]
  },
  {
   "cell_type": "code",
   "execution_count": 129,
   "metadata": {},
   "outputs": [
    {
     "name": "stderr",
     "output_type": "stream",
     "text": [
      "[nltk_data] Downloading package punkt to\n",
      "[nltk_data]     C:\\Users\\zlyon\\AppData\\Roaming\\nltk_data...\n",
      "[nltk_data]   Package punkt is already up-to-date!\n",
      "[nltk_data] Downloading package stopwords to\n",
      "[nltk_data]     C:\\Users\\zlyon\\AppData\\Roaming\\nltk_data...\n",
      "[nltk_data]   Package stopwords is already up-to-date!\n"
     ]
    },
    {
     "data": {
      "text/plain": [
       "True"
      ]
     },
     "execution_count": 129,
     "metadata": {},
     "output_type": "execute_result"
    }
   ],
   "source": [
    "import os\n",
    "import json\n",
    "import nltk\n",
    "import re\n",
    "import matplotlib.pyplot as plt\n",
    "from collections import Counter\n",
    "from nltk.stem.snowball import SnowballStemmer\n",
    "from sklearn.feature_extraction.text import TfidfVectorizer\n",
    "from sklearn.decomposition import LatentDirichletAllocation\n",
    "\n",
    "nltk.download('punkt')  # one time execution if not cached yet\n",
    "nltk.download('stopwords')  # one time execution if not cached yet"
   ]
  },
  {
   "cell_type": "markdown",
   "metadata": {},
   "source": [
    "#### Data Collection & Information Extraction"
   ]
  },
  {
   "cell_type": "code",
   "execution_count": 130,
   "metadata": {},
   "outputs": [],
   "source": [
    "def read_data(archives_dir):\n",
    "    corpus = []\n",
    "    counter = 0\n",
    "    # os.walk gets all the folders and paths in given directory\n",
    "    for root, dirs, files in os.walk(archives_dir):\n",
    "        for i, file in enumerate(files):\n",
    "            # join path(root) and filename so that this can be computer-independent as long as names are the same\n",
    "            # open in readonly mode, need encoding and ignore errors for weird characters in docs\n",
    "            with open(os.path.join(root, file), 'r', encoding=\"utf8\", errors='ignore') as f:\n",
    "                # load json, can use strings for index from json tree\n",
    "                # if data you want is inside of some structure, can use index like ['test1']['title']\n",
    "                # https://devqa.io/python-parse-json/\n",
    "                \n",
    "                data = json.load(f)\n",
    "                appendme = data['title'] + \" \" + data['published'] + \" \" + data['text'] # Create string with title, publish date, and document text\n",
    "                \n",
    "                if appendme: # Make sure not empty string\n",
    "                    corpus.append((appendme))\n",
    "            \n",
    "            # This is here to only go through a few documents instead of the 2GB of documents\n",
    "            # Leave in place to speed up testing/debug\n",
    "            counter += 1\n",
    "            if counter > 10000: # Break because a lot of documents\n",
    "                return corpus\n",
    "            \n",
    "# Extracted the articles into folder called \"archive_usfinancial\", change as needed\n",
    "# read_data() will parse through all folders/files inside there\n",
    "\n",
    "######################################################\n",
    "########### WARNING: There are a lot of files in there and it took an hour and a half to extract on my desktop\n",
    "######################################################\n",
    "corpus = read_data(os.getcwd() + \"\\\\archive_usfinancial\")"
   ]
  },
  {
   "cell_type": "code",
   "execution_count": 131,
   "metadata": {},
   "outputs": [
    {
     "data": {
      "text/plain": [
       "['the',\n",
       " 'emerging',\n",
       " 'market',\n",
       " 'etf',\n",
       " 'eem',\n",
       " 'was',\n",
       " 'a',\n",
       " 'weak',\n",
       " 'dollar',\n",
       " 'and']"
      ]
     },
     "execution_count": 131,
     "metadata": {},
     "output_type": "execute_result"
    }
   ],
   "source": [
    "# Tokenzie\n",
    "def tokenize(corpus):\n",
    "    regex = re.compile('[^a-zA-Z0-9]')  # regex to only match alphanumeric characters\n",
    "    tokens = []\n",
    "    \n",
    "    for sent in nltk.sent_tokenize(corpus):\n",
    "        for word in nltk.word_tokenize(sent):\n",
    "            clean_word = regex.sub('', word)\n",
    "            if clean_word:  # make sure we're not appending empty strings\n",
    "                tokens.append(clean_word.lower())\n",
    "    return tokens\n",
    "\n",
    "tokens = tokenize(corpus[0])\n",
    "tokens[50:60]"
   ]
  },
  {
   "cell_type": "code",
   "execution_count": 132,
   "metadata": {},
   "outputs": [
    {
     "data": {
      "text/plain": [
       "['charts',\n",
       " 'dollartracking',\n",
       " 'etf',\n",
       " 'uup',\n",
       " 'believes',\n",
       " 'us',\n",
       " 'currency',\n",
       " 'continue',\n",
       " 'help',\n",
       " 'group']"
      ]
     },
     "execution_count": 132,
     "metadata": {},
     "output_type": "execute_result"
    }
   ],
   "source": [
    "# Remove stop words\n",
    "def remove_stopwords(tokens):\n",
    "    stopwords = nltk.corpus.stopwords.words('english')\n",
    "    return [word for word in tokens if word not in stopwords]\n",
    "\n",
    "no_stopwords = remove_stopwords(tokens)\n",
    "no_stopwords[50:60]"
   ]
  },
  {
   "cell_type": "code",
   "execution_count": 133,
   "metadata": {},
   "outputs": [
    {
     "data": {
      "text/plain": [
       "['chart',\n",
       " 'dollartrack',\n",
       " 'etf',\n",
       " 'uup',\n",
       " 'believ',\n",
       " 'us',\n",
       " 'currenc',\n",
       " 'continu',\n",
       " 'help',\n",
       " 'group']"
      ]
     },
     "execution_count": 133,
     "metadata": {},
     "output_type": "execute_result"
    }
   ],
   "source": [
    "# Stem words in tokenized data\n",
    "stemmer = SnowballStemmer(\"english\")\n",
    "\n",
    "def stem_words(word):\n",
    "    return stemmer.stem(word).strip()\n",
    "\n",
    "stemmed = [stem_words(word) for word in no_stopwords]\n",
    "stemmed[50:60]"
   ]
  },
  {
   "cell_type": "markdown",
   "metadata": {},
   "source": [
    "#### Topic Modeling"
   ]
  },
  {
   "cell_type": "code",
   "execution_count": 134,
   "metadata": {},
   "outputs": [],
   "source": [
    "# Here we're using TfidVectorizer to create a matrix for our model\n",
    "tfidf = TfidfVectorizer(max_df=0.95, max_features=50000,\n",
    "                        min_df=0.0, stop_words='english',\n",
    "                        use_idf=True, tokenizer=tokenize,\n",
    "                        preprocessor=stem_words, lowercase=True)\n",
    "\n",
    "tfidf_matrix = tfidf.fit_transform(corpus)"
   ]
  },
  {
   "cell_type": "code",
   "execution_count": 135,
   "metadata": {},
   "outputs": [
    {
     "name": "stdout",
     "output_type": "stream",
     "text": [
      "Topic #0:\n",
      "['25000', 'stocks', 'gold', 'zone', 'dow', 'rose', 'dollar', 'euro', 'index', 'percent']\n",
      "\n",
      "\n",
      "Topic #1:\n",
      "['people', 'year', 'nt', 'company', 'reuters', 'new', 'president', 'trump', 'said', 's']\n",
      "\n",
      "\n",
      "Topic #2:\n",
      "['opec', 'oil', 'wolff', 'unrest', 'iranian', 'trump', 'book', 'protests', 'bannon', 'iran']\n",
      "\n",
      "\n",
      "Topic #3:\n",
      "['tanker', 'missile', 'talks', 'korean', 'pyongyang', 'spd', 'kim', 'north', 'merkel', 'korea']\n",
      "\n",
      "\n",
      "Topic #4:\n",
      "['bitcoin', 'million', 'ago', 'year', 'market', '2018', 'company', 'said', 'percent', 's']\n",
      "\n",
      "\n"
     ]
    }
   ],
   "source": [
    "# Testing our model to ensure it is working\n",
    "lda = LatentDirichletAllocation(n_components=5, random_state=42)\n",
    "lda.fit(tfidf_matrix)\n",
    "\n",
    "for i,topic in enumerate(lda.components_):\n",
    "    print(f'Topic #{i}:')\n",
    "    print([tfidf.get_feature_names_out()[i] for i in topic.argsort()[-10:]])\n",
    "    print('\\n')"
   ]
  },
  {
   "cell_type": "code",
   "execution_count": 136,
   "metadata": {},
   "outputs": [
    {
     "name": "stdout",
     "output_type": "stream",
     "text": [
      "[[0.02528564 0.02559288 0.02521522 0.02517626 0.89873   ]\n",
      " [0.03922955 0.04023226 0.03934203 0.03994929 0.84124687]\n",
      " [0.0227009  0.0233325  0.02266344 0.02262417 0.908679  ]\n",
      " ...\n",
      " [0.01537808 0.01596306 0.01540069 0.01530339 0.93795478]\n",
      " [0.02347649 0.02420705 0.02340529 0.02421493 0.90469624]\n",
      " [0.02693241 0.22431651 0.02623422 0.02612589 0.69639096]]\n",
      "[4 4 4 ... 4 4 4]\n",
      "Document number:  10001\n",
      "Topic number:  5\n",
      "10001\n",
      "Topic Counts:  Counter({1: 4787, 4: 4685, 2: 305, 0: 198, 3: 26})\n"
     ]
    },
    {
     "data": {
      "image/png": "[encoded data removed]",
      "text/plain": [
       "<Figure size 640x480 with 1 Axes>"
      ]
     },
     "metadata": {},
     "output_type": "display_data"
    }
   ],
   "source": [
    "'''\n",
    "    Returns a bar plot showing the distribution of documents among topics\n",
    "'''\n",
    "def topic_bar_plot(document_topics):\n",
    "    # Obtain a dictionary that tells us in how many documents a topic was found in\n",
    "    topic_counts = Counter(document_topics)\n",
    "    print(\"Topic Counts: \", topic_counts)\n",
    "\n",
    "    topics = topic_counts.keys()\n",
    "    num_documents = topic_counts.values()\n",
    "\n",
    "    plt.bar(topics, num_documents)\n",
    "    plt.xlabel('Topic Number')\n",
    "    plt.ylabel('Number of Documents')\n",
    "    plt.title('Number of Documents per Topic')\n",
    "    plt.show()\n",
    "\n",
    "\n",
    "# Visualize the distribution of articles among the topics \n",
    "topic_values = lda.transform(tfidf_matrix)\n",
    "print(topic_values)\n",
    "\n",
    "# Get the most well-represented topic for each document\n",
    "document_topics = topic_values.argmax(axis=1)\n",
    "print(document_topics)\n",
    "\n",
    "doc_num, topic_num = topic_values.shape\n",
    "\n",
    "print(\"Document number: \", doc_num)\n",
    "print(\"Topic number: \", topic_num)\n",
    "print(len(topic_values))\n",
    "\n",
    "topic_bar_plot(document_topics)"
   ]
  },
  {
   "cell_type": "code",
   "execution_count": 137,
   "metadata": {},
   "outputs": [
    {
     "name": "stdout",
     "output_type": "stream",
     "text": [
      "Optimal number of topics: 1\n"
     ]
    }
   ],
   "source": [
    "# Since we're using sklearns model for LDA and not gensim's we're using perplexity score to determine the optimal number of topics\n",
    "# Perplexity score measures how well a model can predict a sample, a lower score represents higher certainty\n",
    "perplexity_scores = []\n",
    "for num_topics in range(1, 10):\n",
    "    # Creating a new model for each num_topics\n",
    "    lda = LatentDirichletAllocation(n_components=num_topics, random_state=42)\n",
    "    lda.fit(tfidf_matrix)\n",
    "    perplexity = lda.perplexity(tfidf_matrix)\n",
    "    perplexity_scores.append(perplexity)\n",
    "# after getting all of our perplexity scores we grab the index with the lowest score and use that as our num_topics\n",
    "optimal_num_topics = perplexity_scores.index(min(perplexity_scores)) + 1\n",
    "print(\"Optimal number of topics:\", optimal_num_topics)"
   ]
  },
  {
   "cell_type": "code",
   "execution_count": 138,
   "metadata": {},
   "outputs": [
    {
     "data": {
      "image/png": "[encoded data removed]",
      "text/plain": [
       "<Figure size 640x480 with 1 Axes>"
      ]
     },
     "metadata": {},
     "output_type": "display_data"
    }
   ],
   "source": [
    "plt.bar(range(1,10), perplexity_scores)\n",
    "plt.xlabel('Number of Topics')\n",
    "plt.ylabel('Perplexity Score')\n",
    "plt.title('Perplexity Score and Num Topic')\n",
    "plt.show()"
   ]
  },
  {
   "cell_type": "code",
   "execution_count": 139,
   "metadata": {},
   "outputs": [
    {
     "name": "stdout",
     "output_type": "stream",
     "text": [
      "Optimal number of topics: 1\n"
     ]
    }
   ],
   "source": [
    "# We can clearly see in our case, that having less number of topics is clearly better for our model and our optimal output is 1\n",
    "optimal_num_topics = perplexity_scores.index(min(perplexity_scores)) + 1\n",
    "print(\"Optimal number of topics:\", optimal_num_topics)"
   ]
  },
  {
   "cell_type": "code",
   "execution_count": 140,
   "metadata": {},
   "outputs": [
    {
     "name": "stdout",
     "output_type": "stream",
     "text": [
      "Topic #0:\n",
      "['2017', '2018', 'reuters', 'year', 'new', 'company', 'trump', 'percent', 'said', 's']\n",
      "\n",
      "\n"
     ]
    }
   ],
   "source": [
    "lda = LatentDirichletAllocation(n_components=1, random_state=42)\n",
    "lda.fit(tfidf_matrix)\n",
    "\n",
    "for i,topic in enumerate(lda.components_):\n",
    "    print(f'Topic #{i}:')\n",
    "    print([tfidf.get_feature_names_out()[i] for i in topic.argsort()[-10:]])\n",
    "    print('\\n')"
   ]
  },
  {
   "cell_type": "markdown",
   "metadata": {},
   "source": [
    "#### Analysis"
   ]
  },
  {
   "cell_type": "markdown",
   "metadata": {},
   "source": [
    "Based on the perplexity graph, our model is the most confident when the number of topics is one. If we're to analyze only 1 topic we can assume that the documents have to do with banking under the trump presidency during the years 2017 and 2018.\n",
    "This however isn't interesting so let's test using 3 topics as to not increase the perplexity score too much."
   ]
  },
  {
   "cell_type": "code",
   "execution_count": 141,
   "metadata": {},
   "outputs": [
    {
     "name": "stdout",
     "output_type": "stream",
     "text": [
      "Topic #0:\n",
      "['rose', 'inflation', 'markets', 'euro', 'fed', 'stocks', 'index', 'dow', 'dollar', 'percent']\n",
      "\n",
      "\n",
      "Topic #1:\n",
      "['million', '2018', 'reuters', 'year', 'percent', 'trump', 'new', 'company', 'said', 's']\n",
      "\n",
      "\n",
      "Topic #2:\n",
      "['killed', 'unrest', 'police', 'book', 'iranian', 'pakistan', 'trump', 'protests', 'bannon', 'iran']\n",
      "\n",
      "\n"
     ]
    }
   ],
   "source": [
    "lda = LatentDirichletAllocation(n_components=3, random_state=42)\n",
    "lda.fit(tfidf_matrix)\n",
    "\n",
    "for i,topic in enumerate(lda.components_):\n",
    "    print(f'Topic #{i}:')\n",
    "    print([tfidf.get_feature_names_out()[i] for i in topic.argsort()[-10:]])\n",
    "    print('\\n')"
   ]
  },
  {
   "cell_type": "markdown",
   "metadata": {},
   "source": [
    "Topic #0 appears to be about the value of currency in the current market, particularly about inflation rising\n",
    "\n",
    "Topic #1 is about what I said previously, Economy under trump presidency\n",
    "\n",
    "Topic #2 takes a shift from the economy and discusses tension and unrest during the trump presidency, particularly in the middle east"
   ]
  }
 ],
 "metadata": {
  "kernelspec": {
   "display_name": "venv",
   "language": "python",
   "name": "python3"
  },
  "language_info": {
   "codemirror_mode": {
    "name": "ipython",
    "version": 3
   },
   "file_extension": ".py",
   "mimetype": "text/x-python",
   "name": "python",
   "nbconvert_exporter": "python",
   "pygments_lexer": "ipython3",
   "version": "3.10.11"
  }
 },
 "nbformat": 4,
 "nbformat_minor": 2
}
